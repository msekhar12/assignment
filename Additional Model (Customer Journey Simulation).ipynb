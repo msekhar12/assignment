{
 "cells": [
  {
   "cell_type": "code",
   "execution_count": 1,
   "id": "596e8a0a",
   "metadata": {},
   "outputs": [],
   "source": [
    "import pandas as pd\n",
    "import numpy as np\n",
    "import matplotlib.pyplot as plt\n",
    "# from util import transform_data, cat_to_num_plot\n",
    "import util\n",
    "from sklearn.preprocessing import StandardScaler"
   ]
  },
  {
   "cell_type": "code",
   "execution_count": 2,
   "id": "ff0088c6",
   "metadata": {},
   "outputs": [],
   "source": [
    "# file paths\n",
    "customers_file = \"./customers (4).csv\"\n",
    "non_customers_file = \"./noncustomers (4).csv\"\n",
    "activity_file = \"./usage_actions (4).csv\"\n"
   ]
  },
  {
   "cell_type": "code",
   "execution_count": 3,
   "id": "7f7c2027",
   "metadata": {},
   "outputs": [],
   "source": [
    "# Read individual files\n",
    "customers_df = pd.read_csv(customers_file)\n",
    "non_customers_df = pd.read_csv(non_customers_file)\n",
    "\n",
    "# Read the combined activity file. Check STEP 1 Notebook\n",
    "all_activity_df = util.transform_data(customers_file,non_customers_file,activity_file)"
   ]
  },
  {
   "cell_type": "code",
   "execution_count": 4,
   "id": "55235149",
   "metadata": {},
   "outputs": [
    {
     "data": {
      "text/html": [
       "<div>\n",
       "<style scoped>\n",
       "    .dataframe tbody tr th:only-of-type {\n",
       "        vertical-align: middle;\n",
       "    }\n",
       "\n",
       "    .dataframe tbody tr th {\n",
       "        vertical-align: top;\n",
       "    }\n",
       "\n",
       "    .dataframe thead th {\n",
       "        text-align: right;\n",
       "    }\n",
       "</style>\n",
       "<table border=\"1\" class=\"dataframe\">\n",
       "  <thead>\n",
       "    <tr style=\"text-align: right;\">\n",
       "      <th></th>\n",
       "      <th>id</th>\n",
       "      <th>ALEXA_RANK</th>\n",
       "      <th>EMPLOYEE_RANGE</th>\n",
       "      <th>INDUSTRY</th>\n",
       "      <th>MRR</th>\n",
       "      <th>DATE</th>\n",
       "      <th>ACTIONS_CRM_CONTACTS</th>\n",
       "      <th>ACTIONS_CRM_COMPANIES</th>\n",
       "      <th>ACTIONS_CRM_DEALS</th>\n",
       "      <th>ACTIONS_EMAIL</th>\n",
       "      <th>USERS_CRM_CONTACTS</th>\n",
       "      <th>USERS_CRM_COMPANIES</th>\n",
       "      <th>USERS_CRM_DEALS</th>\n",
       "      <th>USERS_EMAIL</th>\n",
       "      <th>LASTUSED</th>\n",
       "      <th>MEMBERSHIPTYPE</th>\n",
       "    </tr>\n",
       "  </thead>\n",
       "  <tbody>\n",
       "    <tr>\n",
       "      <th>0</th>\n",
       "      <td>199</td>\n",
       "      <td>309343.0</td>\n",
       "      <td>201 to 1000</td>\n",
       "      <td>Other</td>\n",
       "      <td>290.0</td>\n",
       "      <td>2019-01-07</td>\n",
       "      <td>61.0</td>\n",
       "      <td>0.0</td>\n",
       "      <td>0.0</td>\n",
       "      <td>7.0</td>\n",
       "      <td>10.0</td>\n",
       "      <td>0.0</td>\n",
       "      <td>0.0</td>\n",
       "      <td>4.0</td>\n",
       "      <td>0</td>\n",
       "      <td>BEFORE-PREMIUM</td>\n",
       "    </tr>\n",
       "    <tr>\n",
       "      <th>1</th>\n",
       "      <td>199</td>\n",
       "      <td>309343.0</td>\n",
       "      <td>201 to 1000</td>\n",
       "      <td>Other</td>\n",
       "      <td>290.0</td>\n",
       "      <td>2019-01-14</td>\n",
       "      <td>0.0</td>\n",
       "      <td>0.0</td>\n",
       "      <td>0.0</td>\n",
       "      <td>0.0</td>\n",
       "      <td>0.0</td>\n",
       "      <td>0.0</td>\n",
       "      <td>0.0</td>\n",
       "      <td>0.0</td>\n",
       "      <td>7</td>\n",
       "      <td>BEFORE-PREMIUM</td>\n",
       "    </tr>\n",
       "    <tr>\n",
       "      <th>2</th>\n",
       "      <td>199</td>\n",
       "      <td>309343.0</td>\n",
       "      <td>201 to 1000</td>\n",
       "      <td>Other</td>\n",
       "      <td>290.0</td>\n",
       "      <td>2019-01-21</td>\n",
       "      <td>21.0</td>\n",
       "      <td>0.0</td>\n",
       "      <td>0.0</td>\n",
       "      <td>33.0</td>\n",
       "      <td>6.0</td>\n",
       "      <td>0.0</td>\n",
       "      <td>0.0</td>\n",
       "      <td>6.0</td>\n",
       "      <td>0</td>\n",
       "      <td>BEFORE-PREMIUM</td>\n",
       "    </tr>\n",
       "    <tr>\n",
       "      <th>3</th>\n",
       "      <td>199</td>\n",
       "      <td>309343.0</td>\n",
       "      <td>201 to 1000</td>\n",
       "      <td>Other</td>\n",
       "      <td>290.0</td>\n",
       "      <td>2019-01-28</td>\n",
       "      <td>108.0</td>\n",
       "      <td>0.0</td>\n",
       "      <td>3.0</td>\n",
       "      <td>74.0</td>\n",
       "      <td>9.0</td>\n",
       "      <td>0.0</td>\n",
       "      <td>1.0</td>\n",
       "      <td>10.0</td>\n",
       "      <td>0</td>\n",
       "      <td>BEFORE-PREMIUM</td>\n",
       "    </tr>\n",
       "    <tr>\n",
       "      <th>4</th>\n",
       "      <td>199</td>\n",
       "      <td>309343.0</td>\n",
       "      <td>201 to 1000</td>\n",
       "      <td>Other</td>\n",
       "      <td>290.0</td>\n",
       "      <td>2019-02-04</td>\n",
       "      <td>114.0</td>\n",
       "      <td>0.0</td>\n",
       "      <td>5.0</td>\n",
       "      <td>58.0</td>\n",
       "      <td>10.0</td>\n",
       "      <td>0.0</td>\n",
       "      <td>2.0</td>\n",
       "      <td>9.0</td>\n",
       "      <td>0</td>\n",
       "      <td>BEFORE-PREMIUM</td>\n",
       "    </tr>\n",
       "  </tbody>\n",
       "</table>\n",
       "</div>"
      ],
      "text/plain": [
       "    id  ALEXA_RANK EMPLOYEE_RANGE INDUSTRY    MRR        DATE  \\\n",
       "0  199    309343.0    201 to 1000    Other  290.0  2019-01-07   \n",
       "1  199    309343.0    201 to 1000    Other  290.0  2019-01-14   \n",
       "2  199    309343.0    201 to 1000    Other  290.0  2019-01-21   \n",
       "3  199    309343.0    201 to 1000    Other  290.0  2019-01-28   \n",
       "4  199    309343.0    201 to 1000    Other  290.0  2019-02-04   \n",
       "\n",
       "   ACTIONS_CRM_CONTACTS  ACTIONS_CRM_COMPANIES  ACTIONS_CRM_DEALS  \\\n",
       "0                  61.0                    0.0                0.0   \n",
       "1                   0.0                    0.0                0.0   \n",
       "2                  21.0                    0.0                0.0   \n",
       "3                 108.0                    0.0                3.0   \n",
       "4                 114.0                    0.0                5.0   \n",
       "\n",
       "   ACTIONS_EMAIL  USERS_CRM_CONTACTS  USERS_CRM_COMPANIES  USERS_CRM_DEALS  \\\n",
       "0            7.0                10.0                  0.0              0.0   \n",
       "1            0.0                 0.0                  0.0              0.0   \n",
       "2           33.0                 6.0                  0.0              0.0   \n",
       "3           74.0                 9.0                  0.0              1.0   \n",
       "4           58.0                10.0                  0.0              2.0   \n",
       "\n",
       "   USERS_EMAIL  LASTUSED  MEMBERSHIPTYPE  \n",
       "0          4.0         0  BEFORE-PREMIUM  \n",
       "1          0.0         7  BEFORE-PREMIUM  \n",
       "2          6.0         0  BEFORE-PREMIUM  \n",
       "3         10.0         0  BEFORE-PREMIUM  \n",
       "4          9.0         0  BEFORE-PREMIUM  "
      ]
     },
     "execution_count": 4,
     "metadata": {},
     "output_type": "execute_result"
    }
   ],
   "source": [
    "all_activity_df.head()"
   ]
  },
  {
   "cell_type": "code",
   "execution_count": 5,
   "id": "34ee82b7",
   "metadata": {},
   "outputs": [],
   "source": [
    "# drop id=119, as it has outliers\n",
    "#customers_df[customers_df[\"id\"]==119]"
   ]
  },
  {
   "cell_type": "code",
   "execution_count": 6,
   "id": "d9d2f5c2",
   "metadata": {},
   "outputs": [],
   "source": [
    "#all_activity_df.drop(all_activity_df[all_activity_df[\"id\"]==119].index, inplace=True)"
   ]
  },
  {
   "cell_type": "code",
   "execution_count": null,
   "id": "89ef8c19",
   "metadata": {},
   "outputs": [],
   "source": []
  },
  {
   "cell_type": "code",
   "execution_count": 7,
   "id": "3baa4e16",
   "metadata": {},
   "outputs": [
    {
     "data": {
      "text/plain": [
       "Index(['id', 'ALEXA_RANK', 'EMPLOYEE_RANGE', 'INDUSTRY', 'MRR', 'DATE',\n",
       "       'ACTIONS_CRM_CONTACTS', 'ACTIONS_CRM_COMPANIES', 'ACTIONS_CRM_DEALS',\n",
       "       'ACTIONS_EMAIL', 'USERS_CRM_CONTACTS', 'USERS_CRM_COMPANIES',\n",
       "       'USERS_CRM_DEALS', 'USERS_EMAIL', 'LASTUSED', 'MEMBERSHIPTYPE'],\n",
       "      dtype='object')"
      ]
     },
     "execution_count": 7,
     "metadata": {},
     "output_type": "execute_result"
    }
   ],
   "source": [
    "all_activity_df.columns"
   ]
  },
  {
   "cell_type": "code",
   "execution_count": 8,
   "id": "2bd08a83",
   "metadata": {},
   "outputs": [],
   "source": [
    "all_activity_numeric = all_activity_df[['ACTIONS_CRM_CONTACTS', 'ACTIONS_CRM_COMPANIES', 'ACTIONS_CRM_DEALS',\n",
    "       'ACTIONS_EMAIL', 'USERS_CRM_CONTACTS', 'USERS_CRM_COMPANIES',\n",
    "       'USERS_CRM_DEALS', 'USERS_EMAIL', 'LASTUSED']]"
   ]
  },
  {
   "cell_type": "code",
   "execution_count": 9,
   "id": "129c1e91",
   "metadata": {},
   "outputs": [],
   "source": [
    "## The std scaler is not giving good results for PCA\n",
    "\n",
    "#std_scaler = StandardScaler()\n",
    "#std_scaler.fit(all_activity_numeric)\n",
    "#df = pd.DataFrame(std_scaler.transform(all_activity_numeric), columns=[['ACTIONS_CRM_CONTACTS', 'ACTIONS_CRM_COMPANIES', 'ACTIONS_CRM_DEALS',\n",
    "#       'ACTIONS_EMAIL', 'USERS_CRM_CONTACTS', 'USERS_CRM_COMPANIES',\n",
    "#       'USERS_CRM_DEALS', 'USERS_EMAIL', 'LASTUSED']])\n",
    "df = all_activity_numeric"
   ]
  },
  {
   "cell_type": "code",
   "execution_count": 10,
   "id": "b3478bab",
   "metadata": {},
   "outputs": [
    {
     "data": {
      "text/html": [
       "<div>\n",
       "<style scoped>\n",
       "    .dataframe tbody tr th:only-of-type {\n",
       "        vertical-align: middle;\n",
       "    }\n",
       "\n",
       "    .dataframe tbody tr th {\n",
       "        vertical-align: top;\n",
       "    }\n",
       "\n",
       "    .dataframe thead th {\n",
       "        text-align: right;\n",
       "    }\n",
       "</style>\n",
       "<table border=\"1\" class=\"dataframe\">\n",
       "  <thead>\n",
       "    <tr style=\"text-align: right;\">\n",
       "      <th></th>\n",
       "      <th>ACTIONS_CRM_CONTACTS</th>\n",
       "      <th>ACTIONS_CRM_COMPANIES</th>\n",
       "      <th>ACTIONS_CRM_DEALS</th>\n",
       "      <th>ACTIONS_EMAIL</th>\n",
       "      <th>USERS_CRM_CONTACTS</th>\n",
       "      <th>USERS_CRM_COMPANIES</th>\n",
       "      <th>USERS_CRM_DEALS</th>\n",
       "      <th>USERS_EMAIL</th>\n",
       "      <th>LASTUSED</th>\n",
       "    </tr>\n",
       "  </thead>\n",
       "  <tbody>\n",
       "    <tr>\n",
       "      <th>0</th>\n",
       "      <td>61.0</td>\n",
       "      <td>0.0</td>\n",
       "      <td>0.0</td>\n",
       "      <td>7.0</td>\n",
       "      <td>10.0</td>\n",
       "      <td>0.0</td>\n",
       "      <td>0.0</td>\n",
       "      <td>4.0</td>\n",
       "      <td>0</td>\n",
       "    </tr>\n",
       "    <tr>\n",
       "      <th>1</th>\n",
       "      <td>0.0</td>\n",
       "      <td>0.0</td>\n",
       "      <td>0.0</td>\n",
       "      <td>0.0</td>\n",
       "      <td>0.0</td>\n",
       "      <td>0.0</td>\n",
       "      <td>0.0</td>\n",
       "      <td>0.0</td>\n",
       "      <td>7</td>\n",
       "    </tr>\n",
       "    <tr>\n",
       "      <th>2</th>\n",
       "      <td>21.0</td>\n",
       "      <td>0.0</td>\n",
       "      <td>0.0</td>\n",
       "      <td>33.0</td>\n",
       "      <td>6.0</td>\n",
       "      <td>0.0</td>\n",
       "      <td>0.0</td>\n",
       "      <td>6.0</td>\n",
       "      <td>0</td>\n",
       "    </tr>\n",
       "    <tr>\n",
       "      <th>3</th>\n",
       "      <td>108.0</td>\n",
       "      <td>0.0</td>\n",
       "      <td>3.0</td>\n",
       "      <td>74.0</td>\n",
       "      <td>9.0</td>\n",
       "      <td>0.0</td>\n",
       "      <td>1.0</td>\n",
       "      <td>10.0</td>\n",
       "      <td>0</td>\n",
       "    </tr>\n",
       "    <tr>\n",
       "      <th>4</th>\n",
       "      <td>114.0</td>\n",
       "      <td>0.0</td>\n",
       "      <td>5.0</td>\n",
       "      <td>58.0</td>\n",
       "      <td>10.0</td>\n",
       "      <td>0.0</td>\n",
       "      <td>2.0</td>\n",
       "      <td>9.0</td>\n",
       "      <td>0</td>\n",
       "    </tr>\n",
       "  </tbody>\n",
       "</table>\n",
       "</div>"
      ],
      "text/plain": [
       "   ACTIONS_CRM_CONTACTS  ACTIONS_CRM_COMPANIES  ACTIONS_CRM_DEALS  \\\n",
       "0                  61.0                    0.0                0.0   \n",
       "1                   0.0                    0.0                0.0   \n",
       "2                  21.0                    0.0                0.0   \n",
       "3                 108.0                    0.0                3.0   \n",
       "4                 114.0                    0.0                5.0   \n",
       "\n",
       "   ACTIONS_EMAIL  USERS_CRM_CONTACTS  USERS_CRM_COMPANIES  USERS_CRM_DEALS  \\\n",
       "0            7.0                10.0                  0.0              0.0   \n",
       "1            0.0                 0.0                  0.0              0.0   \n",
       "2           33.0                 6.0                  0.0              0.0   \n",
       "3           74.0                 9.0                  0.0              1.0   \n",
       "4           58.0                10.0                  0.0              2.0   \n",
       "\n",
       "   USERS_EMAIL  LASTUSED  \n",
       "0          4.0         0  \n",
       "1          0.0         7  \n",
       "2          6.0         0  \n",
       "3         10.0         0  \n",
       "4          9.0         0  "
      ]
     },
     "execution_count": 10,
     "metadata": {},
     "output_type": "execute_result"
    }
   ],
   "source": [
    "df.head()"
   ]
  },
  {
   "cell_type": "code",
   "execution_count": 11,
   "id": "f641121d",
   "metadata": {},
   "outputs": [
    {
     "name": "stdout",
     "output_type": "stream",
     "text": [
      "[7.27180189e-01 1.82171934e-01 7.19790637e-02 1.85306343e-02\n",
      " 8.06922856e-05 3.76607757e-05 1.25632786e-05 6.70270646e-06\n",
      " 5.60863316e-07]\n"
     ]
    }
   ],
   "source": [
    "from sklearn.decomposition import PCA\n",
    "\n",
    "# TODO: Apply PCA by fitting the good data with the same number of dimensions as features\n",
    "pca = PCA(random_state=42)\n",
    "pca.fit(df)\n",
    "print(pca.explained_variance_ratio_)"
   ]
  },
  {
   "cell_type": "code",
   "execution_count": 12,
   "id": "da2c4687",
   "metadata": {},
   "outputs": [
    {
     "data": {
      "text/plain": [
       "array([ 72.71801885,  90.93521221,  98.13311858,  99.98618201,\n",
       "        99.99425124,  99.99801732,  99.99927364,  99.99994391,\n",
       "       100.        ])"
      ]
     },
     "execution_count": 12,
     "metadata": {},
     "output_type": "execute_result"
    }
   ],
   "source": [
    "np.array(pca.explained_variance_ratio_*100).cumsum()"
   ]
  },
  {
   "cell_type": "code",
   "execution_count": 14,
   "id": "b5b2ed83",
   "metadata": {},
   "outputs": [
    {
     "data": {
      "text/html": [
       "<div>\n",
       "<style scoped>\n",
       "    .dataframe tbody tr th:only-of-type {\n",
       "        vertical-align: middle;\n",
       "    }\n",
       "\n",
       "    .dataframe tbody tr th {\n",
       "        vertical-align: top;\n",
       "    }\n",
       "\n",
       "    .dataframe thead th {\n",
       "        text-align: right;\n",
       "    }\n",
       "</style>\n",
       "<table border=\"1\" class=\"dataframe\">\n",
       "  <thead>\n",
       "    <tr style=\"text-align: right;\">\n",
       "      <th></th>\n",
       "      <th>Component</th>\n",
       "      <th>Cumulative Explained Variance</th>\n",
       "    </tr>\n",
       "  </thead>\n",
       "  <tbody>\n",
       "    <tr>\n",
       "      <th>0</th>\n",
       "      <td>1</td>\n",
       "      <td>72.718019</td>\n",
       "    </tr>\n",
       "    <tr>\n",
       "      <th>1</th>\n",
       "      <td>2</td>\n",
       "      <td>90.935212</td>\n",
       "    </tr>\n",
       "    <tr>\n",
       "      <th>2</th>\n",
       "      <td>3</td>\n",
       "      <td>98.133119</td>\n",
       "    </tr>\n",
       "    <tr>\n",
       "      <th>3</th>\n",
       "      <td>4</td>\n",
       "      <td>99.986182</td>\n",
       "    </tr>\n",
       "    <tr>\n",
       "      <th>4</th>\n",
       "      <td>5</td>\n",
       "      <td>99.994251</td>\n",
       "    </tr>\n",
       "    <tr>\n",
       "      <th>5</th>\n",
       "      <td>6</td>\n",
       "      <td>99.998017</td>\n",
       "    </tr>\n",
       "    <tr>\n",
       "      <th>6</th>\n",
       "      <td>7</td>\n",
       "      <td>99.999274</td>\n",
       "    </tr>\n",
       "    <tr>\n",
       "      <th>7</th>\n",
       "      <td>8</td>\n",
       "      <td>99.999944</td>\n",
       "    </tr>\n",
       "    <tr>\n",
       "      <th>8</th>\n",
       "      <td>9</td>\n",
       "      <td>100.000000</td>\n",
       "    </tr>\n",
       "  </tbody>\n",
       "</table>\n",
       "</div>"
      ],
      "text/plain": [
       "   Component  Cumulative Explained Variance\n",
       "0          1                      72.718019\n",
       "1          2                      90.935212\n",
       "2          3                      98.133119\n",
       "3          4                      99.986182\n",
       "4          5                      99.994251\n",
       "5          6                      99.998017\n",
       "6          7                      99.999274\n",
       "7          8                      99.999944\n",
       "8          9                     100.000000"
      ]
     },
     "execution_count": 14,
     "metadata": {},
     "output_type": "execute_result"
    },
    {
     "data": {
      "image/png": "[encoded data removed]",
      "text/plain": [
       "<Figure size 640x480 with 1 Axes>"
      ]
     },
     "metadata": {},
     "output_type": "display_data"
    }
   ],
   "source": [
    "explained_variance_df = pd.DataFrame(zip(range(1, len(pca.explained_variance_ratio_)+1), np.array(pca.explained_variance_ratio_*100).cumsum()),\n",
    "            columns=[\"Component\", \"Cumulative Explained Variance\"])\n",
    "\n",
    "explained_variance_df.plot.line(x = \"Component\", y= \"Cumulative Explained Variance\")\n",
    "explained_variance_df"
   ]
  },
  {
   "cell_type": "markdown",
   "id": "50a9673b",
   "metadata": {},
   "source": [
    "## Inference\n",
    "* The first 3 PCA components are capturing almost 98% of the variance\n",
    "\n",
    "Now fit the PCA with 3 components only."
   ]
  },
  {
   "cell_type": "code",
   "execution_count": 15,
   "id": "cc5fdb4e",
   "metadata": {},
   "outputs": [],
   "source": [
    "pca = PCA(n_components=3,copy=True,random_state=42)\n",
    "pca.fit(df)\n",
    "\n",
    "# Transform the data using the fitted PCA\n",
    "reduced_df = pca.transform(df)"
   ]
  },
  {
   "cell_type": "code",
   "execution_count": 16,
   "id": "7545c436",
   "metadata": {},
   "outputs": [],
   "source": [
    "reduced_df = pd.DataFrame(reduced_df, columns=[\"Dim_1\", \"Dim_2\", \"Dim_3\"])"
   ]
  },
  {
   "cell_type": "code",
   "execution_count": 17,
   "id": "e136c0db",
   "metadata": {},
   "outputs": [
    {
     "data": {
      "text/html": [
       "<div>\n",
       "<style scoped>\n",
       "    .dataframe tbody tr th:only-of-type {\n",
       "        vertical-align: middle;\n",
       "    }\n",
       "\n",
       "    .dataframe tbody tr th {\n",
       "        vertical-align: top;\n",
       "    }\n",
       "\n",
       "    .dataframe thead th {\n",
       "        text-align: right;\n",
       "    }\n",
       "</style>\n",
       "<table border=\"1\" class=\"dataframe\">\n",
       "  <thead>\n",
       "    <tr style=\"text-align: right;\">\n",
       "      <th></th>\n",
       "      <th>Dim_1</th>\n",
       "      <th>Dim_2</th>\n",
       "      <th>Dim_3</th>\n",
       "    </tr>\n",
       "  </thead>\n",
       "  <tbody>\n",
       "    <tr>\n",
       "      <th>0</th>\n",
       "      <td>51.201352</td>\n",
       "      <td>-111.636978</td>\n",
       "      <td>-13.894644</td>\n",
       "    </tr>\n",
       "    <tr>\n",
       "      <th>1</th>\n",
       "      <td>-9.995241</td>\n",
       "      <td>-107.260369</td>\n",
       "      <td>-9.890041</td>\n",
       "    </tr>\n",
       "    <tr>\n",
       "      <th>2</th>\n",
       "      <td>11.336828</td>\n",
       "      <td>-113.399198</td>\n",
       "      <td>-11.218017</td>\n",
       "    </tr>\n",
       "    <tr>\n",
       "      <th>3</th>\n",
       "      <td>98.345569</td>\n",
       "      <td>-109.867319</td>\n",
       "      <td>-13.211879</td>\n",
       "    </tr>\n",
       "    <tr>\n",
       "      <th>4</th>\n",
       "      <td>104.433707</td>\n",
       "      <td>-109.687441</td>\n",
       "      <td>-11.711898</td>\n",
       "    </tr>\n",
       "    <tr>\n",
       "      <th>...</th>\n",
       "      <td>...</td>\n",
       "      <td>...</td>\n",
       "      <td>...</td>\n",
       "    </tr>\n",
       "    <tr>\n",
       "      <th>155153</th>\n",
       "      <td>-10.543991</td>\n",
       "      <td>-93.295267</td>\n",
       "      <td>-9.124335</td>\n",
       "    </tr>\n",
       "    <tr>\n",
       "      <th>155154</th>\n",
       "      <td>-9.720866</td>\n",
       "      <td>-114.242920</td>\n",
       "      <td>-10.272894</td>\n",
       "    </tr>\n",
       "    <tr>\n",
       "      <th>155155</th>\n",
       "      <td>-9.995241</td>\n",
       "      <td>-107.260369</td>\n",
       "      <td>-9.890041</td>\n",
       "    </tr>\n",
       "    <tr>\n",
       "      <th>155156</th>\n",
       "      <td>-10.269616</td>\n",
       "      <td>-100.277818</td>\n",
       "      <td>-9.507188</td>\n",
       "    </tr>\n",
       "    <tr>\n",
       "      <th>155157</th>\n",
       "      <td>-10.543991</td>\n",
       "      <td>-93.295267</td>\n",
       "      <td>-9.124335</td>\n",
       "    </tr>\n",
       "  </tbody>\n",
       "</table>\n",
       "<p>155158 rows × 3 columns</p>\n",
       "</div>"
      ],
      "text/plain": [
       "             Dim_1       Dim_2      Dim_3\n",
       "0        51.201352 -111.636978 -13.894644\n",
       "1        -9.995241 -107.260369  -9.890041\n",
       "2        11.336828 -113.399198 -11.218017\n",
       "3        98.345569 -109.867319 -13.211879\n",
       "4       104.433707 -109.687441 -11.711898\n",
       "...            ...         ...        ...\n",
       "155153  -10.543991  -93.295267  -9.124335\n",
       "155154   -9.720866 -114.242920 -10.272894\n",
       "155155   -9.995241 -107.260369  -9.890041\n",
       "155156  -10.269616 -100.277818  -9.507188\n",
       "155157  -10.543991  -93.295267  -9.124335\n",
       "\n",
       "[155158 rows x 3 columns]"
      ]
     },
     "execution_count": 17,
     "metadata": {},
     "output_type": "execute_result"
    }
   ],
   "source": [
    "reduced_df"
   ]
  },
  {
   "cell_type": "code",
   "execution_count": 18,
   "id": "a3a32704",
   "metadata": {},
   "outputs": [],
   "source": [
    "reduced_df['MEMBERSHIPTYPE'] = list(all_activity_df['MEMBERSHIPTYPE'])\n",
    "reduced_df['id'] = list(all_activity_df['id'])"
   ]
  },
  {
   "cell_type": "code",
   "execution_count": 19,
   "id": "7ae97e16",
   "metadata": {},
   "outputs": [
    {
     "data": {
      "text/html": [
       "<div>\n",
       "<style scoped>\n",
       "    .dataframe tbody tr th:only-of-type {\n",
       "        vertical-align: middle;\n",
       "    }\n",
       "\n",
       "    .dataframe tbody tr th {\n",
       "        vertical-align: top;\n",
       "    }\n",
       "\n",
       "    .dataframe thead th {\n",
       "        text-align: right;\n",
       "    }\n",
       "</style>\n",
       "<table border=\"1\" class=\"dataframe\">\n",
       "  <thead>\n",
       "    <tr style=\"text-align: right;\">\n",
       "      <th></th>\n",
       "      <th>Dim_1</th>\n",
       "      <th>Dim_2</th>\n",
       "      <th>Dim_3</th>\n",
       "      <th>MEMBERSHIPTYPE</th>\n",
       "      <th>id</th>\n",
       "    </tr>\n",
       "  </thead>\n",
       "  <tbody>\n",
       "    <tr>\n",
       "      <th>0</th>\n",
       "      <td>51.201352</td>\n",
       "      <td>-111.636978</td>\n",
       "      <td>-13.894644</td>\n",
       "      <td>BEFORE-PREMIUM</td>\n",
       "      <td>199</td>\n",
       "    </tr>\n",
       "    <tr>\n",
       "      <th>1</th>\n",
       "      <td>-9.995241</td>\n",
       "      <td>-107.260369</td>\n",
       "      <td>-9.890041</td>\n",
       "      <td>BEFORE-PREMIUM</td>\n",
       "      <td>199</td>\n",
       "    </tr>\n",
       "    <tr>\n",
       "      <th>2</th>\n",
       "      <td>11.336828</td>\n",
       "      <td>-113.399198</td>\n",
       "      <td>-11.218017</td>\n",
       "      <td>BEFORE-PREMIUM</td>\n",
       "      <td>199</td>\n",
       "    </tr>\n",
       "    <tr>\n",
       "      <th>3</th>\n",
       "      <td>98.345569</td>\n",
       "      <td>-109.867319</td>\n",
       "      <td>-13.211879</td>\n",
       "      <td>BEFORE-PREMIUM</td>\n",
       "      <td>199</td>\n",
       "    </tr>\n",
       "    <tr>\n",
       "      <th>4</th>\n",
       "      <td>104.433707</td>\n",
       "      <td>-109.687441</td>\n",
       "      <td>-11.711898</td>\n",
       "      <td>BEFORE-PREMIUM</td>\n",
       "      <td>199</td>\n",
       "    </tr>\n",
       "    <tr>\n",
       "      <th>...</th>\n",
       "      <td>...</td>\n",
       "      <td>...</td>\n",
       "      <td>...</td>\n",
       "      <td>...</td>\n",
       "      <td>...</td>\n",
       "    </tr>\n",
       "    <tr>\n",
       "      <th>155153</th>\n",
       "      <td>-10.543991</td>\n",
       "      <td>-93.295267</td>\n",
       "      <td>-9.124335</td>\n",
       "      <td>FREE</td>\n",
       "      <td>4011</td>\n",
       "    </tr>\n",
       "    <tr>\n",
       "      <th>155154</th>\n",
       "      <td>-9.720866</td>\n",
       "      <td>-114.242920</td>\n",
       "      <td>-10.272894</td>\n",
       "      <td>FREE</td>\n",
       "      <td>3104</td>\n",
       "    </tr>\n",
       "    <tr>\n",
       "      <th>155155</th>\n",
       "      <td>-9.995241</td>\n",
       "      <td>-107.260369</td>\n",
       "      <td>-9.890041</td>\n",
       "      <td>FREE</td>\n",
       "      <td>3104</td>\n",
       "    </tr>\n",
       "    <tr>\n",
       "      <th>155156</th>\n",
       "      <td>-10.269616</td>\n",
       "      <td>-100.277818</td>\n",
       "      <td>-9.507188</td>\n",
       "      <td>FREE</td>\n",
       "      <td>3104</td>\n",
       "    </tr>\n",
       "    <tr>\n",
       "      <th>155157</th>\n",
       "      <td>-10.543991</td>\n",
       "      <td>-93.295267</td>\n",
       "      <td>-9.124335</td>\n",
       "      <td>FREE</td>\n",
       "      <td>3104</td>\n",
       "    </tr>\n",
       "  </tbody>\n",
       "</table>\n",
       "<p>155158 rows × 5 columns</p>\n",
       "</div>"
      ],
      "text/plain": [
       "             Dim_1       Dim_2      Dim_3  MEMBERSHIPTYPE    id\n",
       "0        51.201352 -111.636978 -13.894644  BEFORE-PREMIUM   199\n",
       "1        -9.995241 -107.260369  -9.890041  BEFORE-PREMIUM   199\n",
       "2        11.336828 -113.399198 -11.218017  BEFORE-PREMIUM   199\n",
       "3        98.345569 -109.867319 -13.211879  BEFORE-PREMIUM   199\n",
       "4       104.433707 -109.687441 -11.711898  BEFORE-PREMIUM   199\n",
       "...            ...         ...        ...             ...   ...\n",
       "155153  -10.543991  -93.295267  -9.124335            FREE  4011\n",
       "155154   -9.720866 -114.242920 -10.272894            FREE  3104\n",
       "155155   -9.995241 -107.260369  -9.890041            FREE  3104\n",
       "155156  -10.269616 -100.277818  -9.507188            FREE  3104\n",
       "155157  -10.543991  -93.295267  -9.124335            FREE  3104\n",
       "\n",
       "[155158 rows x 5 columns]"
      ]
     },
     "execution_count": 19,
     "metadata": {},
     "output_type": "execute_result"
    }
   ],
   "source": [
    "reduced_df"
   ]
  },
  {
   "cell_type": "code",
   "execution_count": 20,
   "id": "e86a71e7",
   "metadata": {},
   "outputs": [],
   "source": [
    "colors = {'BEFORE-PREMIUM':'blue', 'FREE':'red', 'PREMIUM':'green'}\n"
   ]
  },
  {
   "cell_type": "code",
   "execution_count": 21,
   "id": "4ef1e052",
   "metadata": {},
   "outputs": [],
   "source": [
    "#reduced_df.plot.scatter(x=\"Dim_1\", y = \"Dim_2\", c=reduced_df['MEMBERSHIPTYPE'].map(colors), \n",
    "#                        label=colors)"
   ]
  },
  {
   "cell_type": "code",
   "execution_count": 22,
   "id": "6d194771",
   "metadata": {},
   "outputs": [
    {
     "data": {
      "image/png": "[encoded data removed]",
      "text/plain": [
       "<Figure size 640x480 with 1 Axes>"
      ]
     },
     "metadata": {},
     "output_type": "display_data"
    }
   ],
   "source": [
    "fig,ax = plt.subplots()\n",
    "for k,d in reduced_df.groupby('MEMBERSHIPTYPE'):\n",
    "    ax.scatter(d['Dim_1'], d['Dim_2'], label=k, alpha=0.4)\n",
    "plt.legend(loc=2)\n",
    "# plt.savefig('scatter.png')\n",
    "plt.show()"
   ]
  },
  {
   "cell_type": "markdown",
   "id": "e0c8a2a1",
   "metadata": {},
   "source": [
    "### Inference\n",
    "* There is a clear distinction between the three groups. \n",
    "* We should use clustering algorithm to cluster the data\n",
    "* After clustering we can get the following insights:\n",
    "    * Since we are NOT using MEMBERSHIPTYPE in the PCA, we can analyze how many user actions belong to a PREMIUM vs BEFORE-PAID vs FREE members\n",
    "    * We can check the individual customers activity, and understand why they are classified (or mis-classified) into a specific cluster.\n",
    "    * Finally the clusters can be used to identify existing PAID customers who are assigned to a cluster with most of the FREE members activity. Such customers may be at the verge of canceling their membership"
   ]
  },
  {
   "cell_type": "markdown",
   "id": "356f1a89",
   "metadata": {},
   "source": [
    "### Clustering"
   ]
  },
  {
   "cell_type": "code",
   "execution_count": 23,
   "id": "d27fcef7",
   "metadata": {},
   "outputs": [
    {
     "data": {
      "image/png": "[encoded data removed]",
      "text/plain": [
       "<Figure size 640x480 with 1 Axes>"
      ]
     },
     "metadata": {},
     "output_type": "display_data"
    }
   ],
   "source": [
    "from sklearn.cluster import KMeans\n",
    "\n",
    "distortions=[]\n",
    "n_clusters=range(2,10)\n",
    "\n",
    "for i in n_clusters:\n",
    "    # TODO: Apply your clustering algorithm of choice to the reduced data \n",
    "    clusterer = KMeans(n_clusters=i, init='k-means++',  n_init=10, max_iter=300, tol=1e-04, random_state=42)\n",
    "    clusterer.fit(reduced_df[['Dim_1','Dim_2','Dim_3']])\n",
    "    \n",
    "    distortions.append(clusterer.inertia_)\n",
    "    \n",
    "plt.plot(n_clusters, distortions, marker='o')\n",
    "plt.xlabel('Number of clusters')\n",
    "plt.ylabel('Distortion')\n",
    "plt.show()"
   ]
  },
  {
   "cell_type": "markdown",
   "id": "02fda089",
   "metadata": {},
   "source": [
    "### Inference\n",
    "* We should use 4 clusters to cluster our data"
   ]
  },
  {
   "cell_type": "code",
   "execution_count": 24,
   "id": "e49be47c",
   "metadata": {},
   "outputs": [
    {
     "data": {
      "text/html": [
       "<style>#sk-container-id-1 {color: black;background-color: white;}#sk-container-id-1 pre{padding: 0;}#sk-container-id-1 div.sk-toggleable {background-color: white;}#sk-container-id-1 label.sk-toggleable__label {cursor: pointer;display: block;width: 100%;margin-bottom: 0;padding: 0.3em;box-sizing: border-box;text-align: center;}#sk-container-id-1 label.sk-toggleable__label-arrow:before {content: \"▸\";float: left;margin-right: 0.25em;color: #696969;}#sk-container-id-1 label.sk-toggleable__label-arrow:hover:before {color: black;}#sk-container-id-1 div.sk-estimator:hover label.sk-toggleable__label-arrow:before {color: black;}#sk-container-id-1 div.sk-toggleable__content {max-height: 0;max-width: 0;overflow: hidden;text-align: left;background-color: #f0f8ff;}#sk-container-id-1 div.sk-toggleable__content pre {margin: 0.2em;color: black;border-radius: 0.25em;background-color: #f0f8ff;}#sk-container-id-1 input.sk-toggleable__control:checked~div.sk-toggleable__content {max-height: 200px;max-width: 100%;overflow: auto;}#sk-container-id-1 input.sk-toggleable__control:checked~label.sk-toggleable__label-arrow:before {content: \"▾\";}#sk-container-id-1 div.sk-estimator input.sk-toggleable__control:checked~label.sk-toggleable__label {background-color: #d4ebff;}#sk-container-id-1 div.sk-label input.sk-toggleable__control:checked~label.sk-toggleable__label {background-color: #d4ebff;}#sk-container-id-1 input.sk-hidden--visually {border: 0;clip: rect(1px 1px 1px 1px);clip: rect(1px, 1px, 1px, 1px);height: 1px;margin: -1px;overflow: hidden;padding: 0;position: absolute;width: 1px;}#sk-container-id-1 div.sk-estimator {font-family: monospace;background-color: #f0f8ff;border: 1px dotted black;border-radius: 0.25em;box-sizing: border-box;margin-bottom: 0.5em;}#sk-container-id-1 div.sk-estimator:hover {background-color: #d4ebff;}#sk-container-id-1 div.sk-parallel-item::after {content: \"\";width: 100%;border-bottom: 1px solid gray;flex-grow: 1;}#sk-container-id-1 div.sk-label:hover label.sk-toggleable__label {background-color: #d4ebff;}#sk-container-id-1 div.sk-serial::before {content: \"\";position: absolute;border-left: 1px solid gray;box-sizing: border-box;top: 0;bottom: 0;left: 50%;z-index: 0;}#sk-container-id-1 div.sk-serial {display: flex;flex-direction: column;align-items: center;background-color: white;padding-right: 0.2em;padding-left: 0.2em;position: relative;}#sk-container-id-1 div.sk-item {position: relative;z-index: 1;}#sk-container-id-1 div.sk-parallel {display: flex;align-items: stretch;justify-content: center;background-color: white;position: relative;}#sk-container-id-1 div.sk-item::before, #sk-container-id-1 div.sk-parallel-item::before {content: \"\";position: absolute;border-left: 1px solid gray;box-sizing: border-box;top: 0;bottom: 0;left: 50%;z-index: -1;}#sk-container-id-1 div.sk-parallel-item {display: flex;flex-direction: column;z-index: 1;position: relative;background-color: white;}#sk-container-id-1 div.sk-parallel-item:first-child::after {align-self: flex-end;width: 50%;}#sk-container-id-1 div.sk-parallel-item:last-child::after {align-self: flex-start;width: 50%;}#sk-container-id-1 div.sk-parallel-item:only-child::after {width: 0;}#sk-container-id-1 div.sk-dashed-wrapped {border: 1px dashed gray;margin: 0 0.4em 0.5em 0.4em;box-sizing: border-box;padding-bottom: 0.4em;background-color: white;}#sk-container-id-1 div.sk-label label {font-family: monospace;font-weight: bold;display: inline-block;line-height: 1.2em;}#sk-container-id-1 div.sk-label-container {text-align: center;}#sk-container-id-1 div.sk-container {/* jupyter's `normalize.less` sets `[hidden] { display: none; }` but bootstrap.min.css set `[hidden] { display: none !important; }` so we also need the `!important` here to be able to override the default hidden behavior on the sphinx rendered scikit-learn.org. See: https://github.com/scikit-learn/scikit-learn/issues/21755 */display: inline-block !important;position: relative;}#sk-container-id-1 div.sk-text-repr-fallback {display: none;}</style><div id=\"sk-container-id-1\" class=\"sk-top-container\"><div class=\"sk-text-repr-fallback\"><pre>KMeans(n_clusters=4, random_state=0)</pre><b>In a Jupyter environment, please rerun this cell to show the HTML representation or trust the notebook. <br />On GitHub, the HTML representation is unable to render, please try loading this page with nbviewer.org.</b></div><div class=\"sk-container\" hidden><div class=\"sk-item\"><div class=\"sk-estimator sk-toggleable\"><input class=\"sk-toggleable__control sk-hidden--visually\" id=\"sk-estimator-id-1\" type=\"checkbox\" checked><label for=\"sk-estimator-id-1\" class=\"sk-toggleable__label sk-toggleable__label-arrow\">KMeans</label><div class=\"sk-toggleable__content\"><pre>KMeans(n_clusters=4, random_state=0)</pre></div></div></div></div></div>"
      ],
      "text/plain": [
       "KMeans(n_clusters=4, random_state=0)"
      ]
     },
     "execution_count": 24,
     "metadata": {},
     "output_type": "execute_result"
    }
   ],
   "source": [
    "clusterer = KMeans(n_clusters=4, init='k-means++',  n_init=10, max_iter=300, tol=1e-04, random_state=0)\n",
    "clusterer.fit(reduced_df[['Dim_1', 'Dim_2', 'Dim_3']])\n"
   ]
  },
  {
   "cell_type": "code",
   "execution_count": 25,
   "id": "76048486",
   "metadata": {},
   "outputs": [
    {
     "name": "stdout",
     "output_type": "stream",
     "text": [
      "[0 0 0 ... 0 0 0]\n",
      "[0 1 2 3]\n"
     ]
    },
    {
     "data": {
      "text/html": [
       "<div>\n",
       "<style scoped>\n",
       "    .dataframe tbody tr th:only-of-type {\n",
       "        vertical-align: middle;\n",
       "    }\n",
       "\n",
       "    .dataframe tbody tr th {\n",
       "        vertical-align: top;\n",
       "    }\n",
       "\n",
       "    .dataframe thead th {\n",
       "        text-align: right;\n",
       "    }\n",
       "</style>\n",
       "<table border=\"1\" class=\"dataframe\">\n",
       "  <thead>\n",
       "    <tr style=\"text-align: right;\">\n",
       "      <th></th>\n",
       "      <th>Dim_1</th>\n",
       "      <th>Dim_2</th>\n",
       "      <th>Dim_3</th>\n",
       "      <th>MEMBERSHIPTYPE</th>\n",
       "      <th>id</th>\n",
       "      <th>cluster</th>\n",
       "    </tr>\n",
       "  </thead>\n",
       "  <tbody>\n",
       "    <tr>\n",
       "      <th>0</th>\n",
       "      <td>51.201352</td>\n",
       "      <td>-111.636978</td>\n",
       "      <td>-13.894644</td>\n",
       "      <td>BEFORE-PREMIUM</td>\n",
       "      <td>199</td>\n",
       "      <td>0</td>\n",
       "    </tr>\n",
       "    <tr>\n",
       "      <th>1</th>\n",
       "      <td>-9.995241</td>\n",
       "      <td>-107.260369</td>\n",
       "      <td>-9.890041</td>\n",
       "      <td>BEFORE-PREMIUM</td>\n",
       "      <td>199</td>\n",
       "      <td>0</td>\n",
       "    </tr>\n",
       "    <tr>\n",
       "      <th>2</th>\n",
       "      <td>11.336828</td>\n",
       "      <td>-113.399198</td>\n",
       "      <td>-11.218017</td>\n",
       "      <td>BEFORE-PREMIUM</td>\n",
       "      <td>199</td>\n",
       "      <td>0</td>\n",
       "    </tr>\n",
       "    <tr>\n",
       "      <th>3</th>\n",
       "      <td>98.345569</td>\n",
       "      <td>-109.867319</td>\n",
       "      <td>-13.211879</td>\n",
       "      <td>BEFORE-PREMIUM</td>\n",
       "      <td>199</td>\n",
       "      <td>0</td>\n",
       "    </tr>\n",
       "    <tr>\n",
       "      <th>4</th>\n",
       "      <td>104.433707</td>\n",
       "      <td>-109.687441</td>\n",
       "      <td>-11.711898</td>\n",
       "      <td>BEFORE-PREMIUM</td>\n",
       "      <td>199</td>\n",
       "      <td>0</td>\n",
       "    </tr>\n",
       "    <tr>\n",
       "      <th>...</th>\n",
       "      <td>...</td>\n",
       "      <td>...</td>\n",
       "      <td>...</td>\n",
       "      <td>...</td>\n",
       "      <td>...</td>\n",
       "      <td>...</td>\n",
       "    </tr>\n",
       "    <tr>\n",
       "      <th>155153</th>\n",
       "      <td>-10.543991</td>\n",
       "      <td>-93.295267</td>\n",
       "      <td>-9.124335</td>\n",
       "      <td>FREE</td>\n",
       "      <td>4011</td>\n",
       "      <td>0</td>\n",
       "    </tr>\n",
       "    <tr>\n",
       "      <th>155154</th>\n",
       "      <td>-9.720866</td>\n",
       "      <td>-114.242920</td>\n",
       "      <td>-10.272894</td>\n",
       "      <td>FREE</td>\n",
       "      <td>3104</td>\n",
       "      <td>0</td>\n",
       "    </tr>\n",
       "    <tr>\n",
       "      <th>155155</th>\n",
       "      <td>-9.995241</td>\n",
       "      <td>-107.260369</td>\n",
       "      <td>-9.890041</td>\n",
       "      <td>FREE</td>\n",
       "      <td>3104</td>\n",
       "      <td>0</td>\n",
       "    </tr>\n",
       "    <tr>\n",
       "      <th>155156</th>\n",
       "      <td>-10.269616</td>\n",
       "      <td>-100.277818</td>\n",
       "      <td>-9.507188</td>\n",
       "      <td>FREE</td>\n",
       "      <td>3104</td>\n",
       "      <td>0</td>\n",
       "    </tr>\n",
       "    <tr>\n",
       "      <th>155157</th>\n",
       "      <td>-10.543991</td>\n",
       "      <td>-93.295267</td>\n",
       "      <td>-9.124335</td>\n",
       "      <td>FREE</td>\n",
       "      <td>3104</td>\n",
       "      <td>0</td>\n",
       "    </tr>\n",
       "  </tbody>\n",
       "</table>\n",
       "<p>155158 rows × 6 columns</p>\n",
       "</div>"
      ],
      "text/plain": [
       "             Dim_1       Dim_2      Dim_3  MEMBERSHIPTYPE    id  cluster\n",
       "0        51.201352 -111.636978 -13.894644  BEFORE-PREMIUM   199        0\n",
       "1        -9.995241 -107.260369  -9.890041  BEFORE-PREMIUM   199        0\n",
       "2        11.336828 -113.399198 -11.218017  BEFORE-PREMIUM   199        0\n",
       "3        98.345569 -109.867319 -13.211879  BEFORE-PREMIUM   199        0\n",
       "4       104.433707 -109.687441 -11.711898  BEFORE-PREMIUM   199        0\n",
       "...            ...         ...        ...             ...   ...      ...\n",
       "155153  -10.543991  -93.295267  -9.124335            FREE  4011        0\n",
       "155154   -9.720866 -114.242920 -10.272894            FREE  3104        0\n",
       "155155   -9.995241 -107.260369  -9.890041            FREE  3104        0\n",
       "155156  -10.269616 -100.277818  -9.507188            FREE  3104        0\n",
       "155157  -10.543991  -93.295267  -9.124335            FREE  3104        0\n",
       "\n",
       "[155158 rows x 6 columns]"
      ]
     },
     "execution_count": 25,
     "metadata": {},
     "output_type": "execute_result"
    }
   ],
   "source": [
    "preds = clusterer.predict(reduced_df[['Dim_1', 'Dim_2', 'Dim_3']])\n",
    "print(preds)\n",
    "cluster_labels = np.unique(preds)\n",
    "print(cluster_labels)\n",
    "reduced_df['cluster'] = preds\n",
    "reduced_df"
   ]
  },
  {
   "cell_type": "code",
   "execution_count": 28,
   "id": "2f58f825",
   "metadata": {},
   "outputs": [],
   "source": [
    "all_activity_df[\"Cluster\"] = list(reduced_df[\"cluster\"])"
   ]
  },
  {
   "cell_type": "code",
   "execution_count": 29,
   "id": "04a212ae",
   "metadata": {},
   "outputs": [],
   "source": [
    "scaler = StandardScaler()\n",
    "scaler.fit(reduced_df[[\"Dim_1\", \"Dim_2\", \"Dim_3\"]])\n",
    "reduced_df_scaled = scaler.transform(reduced_df[[\"Dim_1\", \"Dim_2\", \"Dim_3\"]])\n"
   ]
  },
  {
   "cell_type": "code",
   "execution_count": 30,
   "id": "bff42d14",
   "metadata": {},
   "outputs": [],
   "source": [
    "reduced_df_scaled = pd.DataFrame(reduced_df_scaled, columns=[\"Dim_1\", \"Dim_2\", \"Dim_3\"])"
   ]
  },
  {
   "cell_type": "code",
   "execution_count": 31,
   "id": "12036c1f",
   "metadata": {},
   "outputs": [
    {
     "data": {
      "text/plain": [
       "<AxesSubplot: ylabel='Frequency'>"
      ]
     },
     "execution_count": 31,
     "metadata": {},
     "output_type": "execute_result"
    },
    {
     "data": {
      "image/png": "[encoded data removed]",
      "text/plain": [
       "<Figure size 640x480 with 1 Axes>"
      ]
     },
     "metadata": {},
     "output_type": "display_data"
    }
   ],
   "source": [
    "reduced_df_scaled[\"Dim_3\"].plot.hist(bins=300)"
   ]
  },
  {
   "cell_type": "code",
   "execution_count": 32,
   "id": "632cd40f",
   "metadata": {},
   "outputs": [
    {
     "data": {
      "image/png": "[encoded data removed]",
      "text/plain": [
       "<Figure size 640x480 with 1 Axes>"
      ]
     },
     "metadata": {},
     "output_type": "display_data"
    }
   ],
   "source": [
    "from sklearn.cluster import KMeans\n",
    "\n",
    "distortions=[]\n",
    "n_clusters=range(2,10)\n",
    "\n",
    "for i in n_clusters:\n",
    "    # TODO: Apply your clustering algorithm of choice to the reduced data \n",
    "    clusterer = KMeans(n_clusters=i, init='k-means++',  n_init=10, max_iter=300, tol=1e-04, random_state=42)\n",
    "    clusterer.fit(reduced_df_scaled[['Dim_1','Dim_2','Dim_3']])\n",
    "    \n",
    "    distortions.append(clusterer.inertia_)\n",
    "    \n",
    "plt.plot(n_clusters, distortions, marker='o')\n",
    "plt.xlabel('Number of clusters')\n",
    "plt.ylabel('Distortion')\n",
    "plt.show()"
   ]
  },
  {
   "cell_type": "code",
   "execution_count": 33,
   "id": "32eddd2d",
   "metadata": {},
   "outputs": [
    {
     "data": {
      "text/html": [
       "<style>#sk-container-id-2 {color: black;background-color: white;}#sk-container-id-2 pre{padding: 0;}#sk-container-id-2 div.sk-toggleable {background-color: white;}#sk-container-id-2 label.sk-toggleable__label {cursor: pointer;display: block;width: 100%;margin-bottom: 0;padding: 0.3em;box-sizing: border-box;text-align: center;}#sk-container-id-2 label.sk-toggleable__label-arrow:before {content: \"▸\";float: left;margin-right: 0.25em;color: #696969;}#sk-container-id-2 label.sk-toggleable__label-arrow:hover:before {color: black;}#sk-container-id-2 div.sk-estimator:hover label.sk-toggleable__label-arrow:before {color: black;}#sk-container-id-2 div.sk-toggleable__content {max-height: 0;max-width: 0;overflow: hidden;text-align: left;background-color: #f0f8ff;}#sk-container-id-2 div.sk-toggleable__content pre {margin: 0.2em;color: black;border-radius: 0.25em;background-color: #f0f8ff;}#sk-container-id-2 input.sk-toggleable__control:checked~div.sk-toggleable__content {max-height: 200px;max-width: 100%;overflow: auto;}#sk-container-id-2 input.sk-toggleable__control:checked~label.sk-toggleable__label-arrow:before {content: \"▾\";}#sk-container-id-2 div.sk-estimator input.sk-toggleable__control:checked~label.sk-toggleable__label {background-color: #d4ebff;}#sk-container-id-2 div.sk-label input.sk-toggleable__control:checked~label.sk-toggleable__label {background-color: #d4ebff;}#sk-container-id-2 input.sk-hidden--visually {border: 0;clip: rect(1px 1px 1px 1px);clip: rect(1px, 1px, 1px, 1px);height: 1px;margin: -1px;overflow: hidden;padding: 0;position: absolute;width: 1px;}#sk-container-id-2 div.sk-estimator {font-family: monospace;background-color: #f0f8ff;border: 1px dotted black;border-radius: 0.25em;box-sizing: border-box;margin-bottom: 0.5em;}#sk-container-id-2 div.sk-estimator:hover {background-color: #d4ebff;}#sk-container-id-2 div.sk-parallel-item::after {content: \"\";width: 100%;border-bottom: 1px solid gray;flex-grow: 1;}#sk-container-id-2 div.sk-label:hover label.sk-toggleable__label {background-color: #d4ebff;}#sk-container-id-2 div.sk-serial::before {content: \"\";position: absolute;border-left: 1px solid gray;box-sizing: border-box;top: 0;bottom: 0;left: 50%;z-index: 0;}#sk-container-id-2 div.sk-serial {display: flex;flex-direction: column;align-items: center;background-color: white;padding-right: 0.2em;padding-left: 0.2em;position: relative;}#sk-container-id-2 div.sk-item {position: relative;z-index: 1;}#sk-container-id-2 div.sk-parallel {display: flex;align-items: stretch;justify-content: center;background-color: white;position: relative;}#sk-container-id-2 div.sk-item::before, #sk-container-id-2 div.sk-parallel-item::before {content: \"\";position: absolute;border-left: 1px solid gray;box-sizing: border-box;top: 0;bottom: 0;left: 50%;z-index: -1;}#sk-container-id-2 div.sk-parallel-item {display: flex;flex-direction: column;z-index: 1;position: relative;background-color: white;}#sk-container-id-2 div.sk-parallel-item:first-child::after {align-self: flex-end;width: 50%;}#sk-container-id-2 div.sk-parallel-item:last-child::after {align-self: flex-start;width: 50%;}#sk-container-id-2 div.sk-parallel-item:only-child::after {width: 0;}#sk-container-id-2 div.sk-dashed-wrapped {border: 1px dashed gray;margin: 0 0.4em 0.5em 0.4em;box-sizing: border-box;padding-bottom: 0.4em;background-color: white;}#sk-container-id-2 div.sk-label label {font-family: monospace;font-weight: bold;display: inline-block;line-height: 1.2em;}#sk-container-id-2 div.sk-label-container {text-align: center;}#sk-container-id-2 div.sk-container {/* jupyter's `normalize.less` sets `[hidden] { display: none; }` but bootstrap.min.css set `[hidden] { display: none !important; }` so we also need the `!important` here to be able to override the default hidden behavior on the sphinx rendered scikit-learn.org. See: https://github.com/scikit-learn/scikit-learn/issues/21755 */display: inline-block !important;position: relative;}#sk-container-id-2 div.sk-text-repr-fallback {display: none;}</style><div id=\"sk-container-id-2\" class=\"sk-top-container\"><div class=\"sk-text-repr-fallback\"><pre>KMeans(n_clusters=4, random_state=0)</pre><b>In a Jupyter environment, please rerun this cell to show the HTML representation or trust the notebook. <br />On GitHub, the HTML representation is unable to render, please try loading this page with nbviewer.org.</b></div><div class=\"sk-container\" hidden><div class=\"sk-item\"><div class=\"sk-estimator sk-toggleable\"><input class=\"sk-toggleable__control sk-hidden--visually\" id=\"sk-estimator-id-2\" type=\"checkbox\" checked><label for=\"sk-estimator-id-2\" class=\"sk-toggleable__label sk-toggleable__label-arrow\">KMeans</label><div class=\"sk-toggleable__content\"><pre>KMeans(n_clusters=4, random_state=0)</pre></div></div></div></div></div>"
      ],
      "text/plain": [
       "KMeans(n_clusters=4, random_state=0)"
      ]
     },
     "execution_count": 33,
     "metadata": {},
     "output_type": "execute_result"
    }
   ],
   "source": [
    "clusterer_scaled = KMeans(n_clusters=4, init='k-means++',  n_init=10, max_iter=300, tol=1e-04, random_state=0)\n",
    "clusterer_scaled.fit(reduced_df_scaled[['Dim_1', 'Dim_2', 'Dim_3']])\n"
   ]
  },
  {
   "cell_type": "code",
   "execution_count": 34,
   "id": "6f9c9ab6",
   "metadata": {},
   "outputs": [
    {
     "data": {
      "text/plain": [
       "array([0, 0, 0, ..., 0, 0, 0], dtype=int32)"
      ]
     },
     "execution_count": 34,
     "metadata": {},
     "output_type": "execute_result"
    }
   ],
   "source": [
    "clusterer_scaled.predict(reduced_df_scaled)"
   ]
  },
  {
   "cell_type": "code",
   "execution_count": 35,
   "id": "270d35d7",
   "metadata": {},
   "outputs": [],
   "source": [
    "reduced_df_scaled['cluster'] = clusterer_scaled.predict(reduced_df_scaled)"
   ]
  },
  {
   "cell_type": "code",
   "execution_count": 36,
   "id": "70940a66",
   "metadata": {},
   "outputs": [],
   "source": [
    "reduced_df_scaled[\"id\"] = list(reduced_df[\"id\"])"
   ]
  },
  {
   "cell_type": "code",
   "execution_count": 37,
   "id": "02d89ae5",
   "metadata": {},
   "outputs": [],
   "source": [
    "reduced_df_scaled[\"MEMBERSHIPTYPE\"] = list(reduced_df[\"MEMBERSHIPTYPE\"])"
   ]
  },
  {
   "cell_type": "code",
   "execution_count": 38,
   "id": "df6ee3b6",
   "metadata": {},
   "outputs": [
    {
     "data": {
      "text/html": [
       "<div>\n",
       "<style scoped>\n",
       "    .dataframe tbody tr th:only-of-type {\n",
       "        vertical-align: middle;\n",
       "    }\n",
       "\n",
       "    .dataframe tbody tr th {\n",
       "        vertical-align: top;\n",
       "    }\n",
       "\n",
       "    .dataframe thead th {\n",
       "        text-align: right;\n",
       "    }\n",
       "</style>\n",
       "<table border=\"1\" class=\"dataframe\">\n",
       "  <thead>\n",
       "    <tr style=\"text-align: right;\">\n",
       "      <th></th>\n",
       "      <th>Dim_1</th>\n",
       "      <th>Dim_2</th>\n",
       "      <th>Dim_3</th>\n",
       "      <th>cluster</th>\n",
       "      <th>id</th>\n",
       "      <th>MEMBERSHIPTYPE</th>\n",
       "    </tr>\n",
       "  </thead>\n",
       "  <tbody>\n",
       "    <tr>\n",
       "      <th>0</th>\n",
       "      <td>0.217811</td>\n",
       "      <td>-0.948826</td>\n",
       "      <td>-0.187873</td>\n",
       "      <td>0</td>\n",
       "      <td>199</td>\n",
       "      <td>BEFORE-PREMIUM</td>\n",
       "    </tr>\n",
       "    <tr>\n",
       "      <th>1</th>\n",
       "      <td>-0.042520</td>\n",
       "      <td>-0.911628</td>\n",
       "      <td>-0.133726</td>\n",
       "      <td>0</td>\n",
       "      <td>199</td>\n",
       "      <td>BEFORE-PREMIUM</td>\n",
       "    </tr>\n",
       "    <tr>\n",
       "      <th>2</th>\n",
       "      <td>0.048227</td>\n",
       "      <td>-0.963803</td>\n",
       "      <td>-0.151681</td>\n",
       "      <td>0</td>\n",
       "      <td>199</td>\n",
       "      <td>BEFORE-PREMIUM</td>\n",
       "    </tr>\n",
       "    <tr>\n",
       "      <th>3</th>\n",
       "      <td>0.418363</td>\n",
       "      <td>-0.933785</td>\n",
       "      <td>-0.178641</td>\n",
       "      <td>0</td>\n",
       "      <td>199</td>\n",
       "      <td>BEFORE-PREMIUM</td>\n",
       "    </tr>\n",
       "    <tr>\n",
       "      <th>4</th>\n",
       "      <td>0.444262</td>\n",
       "      <td>-0.932256</td>\n",
       "      <td>-0.158359</td>\n",
       "      <td>0</td>\n",
       "      <td>199</td>\n",
       "      <td>BEFORE-PREMIUM</td>\n",
       "    </tr>\n",
       "    <tr>\n",
       "      <th>...</th>\n",
       "      <td>...</td>\n",
       "      <td>...</td>\n",
       "      <td>...</td>\n",
       "      <td>...</td>\n",
       "      <td>...</td>\n",
       "      <td>...</td>\n",
       "    </tr>\n",
       "    <tr>\n",
       "      <th>155153</th>\n",
       "      <td>-0.044854</td>\n",
       "      <td>-0.792936</td>\n",
       "      <td>-0.123372</td>\n",
       "      <td>0</td>\n",
       "      <td>4011</td>\n",
       "      <td>FREE</td>\n",
       "    </tr>\n",
       "    <tr>\n",
       "      <th>155154</th>\n",
       "      <td>-0.041353</td>\n",
       "      <td>-0.970974</td>\n",
       "      <td>-0.138902</td>\n",
       "      <td>0</td>\n",
       "      <td>3104</td>\n",
       "      <td>FREE</td>\n",
       "    </tr>\n",
       "    <tr>\n",
       "      <th>155155</th>\n",
       "      <td>-0.042520</td>\n",
       "      <td>-0.911628</td>\n",
       "      <td>-0.133726</td>\n",
       "      <td>0</td>\n",
       "      <td>3104</td>\n",
       "      <td>FREE</td>\n",
       "    </tr>\n",
       "    <tr>\n",
       "      <th>155156</th>\n",
       "      <td>-0.043687</td>\n",
       "      <td>-0.852282</td>\n",
       "      <td>-0.128549</td>\n",
       "      <td>0</td>\n",
       "      <td>3104</td>\n",
       "      <td>FREE</td>\n",
       "    </tr>\n",
       "    <tr>\n",
       "      <th>155157</th>\n",
       "      <td>-0.044854</td>\n",
       "      <td>-0.792936</td>\n",
       "      <td>-0.123372</td>\n",
       "      <td>0</td>\n",
       "      <td>3104</td>\n",
       "      <td>FREE</td>\n",
       "    </tr>\n",
       "  </tbody>\n",
       "</table>\n",
       "<p>155158 rows × 6 columns</p>\n",
       "</div>"
      ],
      "text/plain": [
       "           Dim_1     Dim_2     Dim_3  cluster    id  MEMBERSHIPTYPE\n",
       "0       0.217811 -0.948826 -0.187873        0   199  BEFORE-PREMIUM\n",
       "1      -0.042520 -0.911628 -0.133726        0   199  BEFORE-PREMIUM\n",
       "2       0.048227 -0.963803 -0.151681        0   199  BEFORE-PREMIUM\n",
       "3       0.418363 -0.933785 -0.178641        0   199  BEFORE-PREMIUM\n",
       "4       0.444262 -0.932256 -0.158359        0   199  BEFORE-PREMIUM\n",
       "...          ...       ...       ...      ...   ...             ...\n",
       "155153 -0.044854 -0.792936 -0.123372        0  4011            FREE\n",
       "155154 -0.041353 -0.970974 -0.138902        0  3104            FREE\n",
       "155155 -0.042520 -0.911628 -0.133726        0  3104            FREE\n",
       "155156 -0.043687 -0.852282 -0.128549        0  3104            FREE\n",
       "155157 -0.044854 -0.792936 -0.123372        0  3104            FREE\n",
       "\n",
       "[155158 rows x 6 columns]"
      ]
     },
     "execution_count": 38,
     "metadata": {},
     "output_type": "execute_result"
    }
   ],
   "source": [
    "reduced_df_scaled"
   ]
  },
  {
   "cell_type": "code",
   "execution_count": 39,
   "id": "b3cb592f",
   "metadata": {},
   "outputs": [
    {
     "data": {
      "text/plain": [
       "{0, 1, 2, 3}"
      ]
     },
     "execution_count": 39,
     "metadata": {},
     "output_type": "execute_result"
    }
   ],
   "source": [
    "set(reduced_df_scaled[\"cluster\"])"
   ]
  },
  {
   "cell_type": "code",
   "execution_count": 40,
   "id": "8958f7b3",
   "metadata": {},
   "outputs": [
    {
     "data": {
      "text/plain": [
       "0    112069\n",
       "1     43009\n",
       "3        70\n",
       "2        10\n",
       "Name: cluster, dtype: int64"
      ]
     },
     "execution_count": 40,
     "metadata": {},
     "output_type": "execute_result"
    }
   ],
   "source": [
    "reduced_df_scaled[\"cluster\"].value_counts()"
   ]
  },
  {
   "cell_type": "code",
   "execution_count": 41,
   "id": "30a86049",
   "metadata": {},
   "outputs": [
    {
     "data": {
      "text/plain": [
       "FREE              100437\n",
       "PREMIUM             7746\n",
       "BEFORE-PREMIUM      3886\n",
       "Name: MEMBERSHIPTYPE, dtype: int64"
      ]
     },
     "execution_count": 41,
     "metadata": {},
     "output_type": "execute_result"
    }
   ],
   "source": [
    "reduced_df_scaled[reduced_df_scaled[\"cluster\"]==0][\"MEMBERSHIPTYPE\"].value_counts()"
   ]
  },
  {
   "cell_type": "code",
   "execution_count": 42,
   "id": "086cd10e",
   "metadata": {},
   "outputs": [
    {
     "data": {
      "text/plain": [
       "FREE              42957\n",
       "PREMIUM              41\n",
       "BEFORE-PREMIUM       11\n",
       "Name: MEMBERSHIPTYPE, dtype: int64"
      ]
     },
     "execution_count": 42,
     "metadata": {},
     "output_type": "execute_result"
    }
   ],
   "source": [
    "reduced_df_scaled[reduced_df_scaled[\"cluster\"]==1][\"MEMBERSHIPTYPE\"].value_counts()"
   ]
  },
  {
   "cell_type": "code",
   "execution_count": 43,
   "id": "89092100",
   "metadata": {},
   "outputs": [
    {
     "data": {
      "text/plain": [
       "PREMIUM    10\n",
       "Name: MEMBERSHIPTYPE, dtype: int64"
      ]
     },
     "execution_count": 43,
     "metadata": {},
     "output_type": "execute_result"
    }
   ],
   "source": [
    "reduced_df_scaled[reduced_df_scaled[\"cluster\"]==2][\"MEMBERSHIPTYPE\"].value_counts()"
   ]
  },
  {
   "cell_type": "code",
   "execution_count": 44,
   "id": "19715248",
   "metadata": {},
   "outputs": [
    {
     "data": {
      "text/plain": [
       "PREMIUM           68\n",
       "BEFORE-PREMIUM     1\n",
       "FREE               1\n",
       "Name: MEMBERSHIPTYPE, dtype: int64"
      ]
     },
     "execution_count": 44,
     "metadata": {},
     "output_type": "execute_result"
    }
   ],
   "source": [
    "reduced_df_scaled[reduced_df_scaled[\"cluster\"]==3][\"MEMBERSHIPTYPE\"].value_counts()"
   ]
  },
  {
   "cell_type": "code",
   "execution_count": 45,
   "id": "0273cc75",
   "metadata": {},
   "outputs": [
    {
     "data": {
      "text/plain": [
       "Series([], Name: MEMBERSHIPTYPE, dtype: int64)"
      ]
     },
     "execution_count": 45,
     "metadata": {},
     "output_type": "execute_result"
    }
   ],
   "source": [
    "reduced_df_scaled[reduced_df_scaled[\"cluster\"]==4][\"MEMBERSHIPTYPE\"].value_counts()"
   ]
  },
  {
   "cell_type": "code",
   "execution_count": 47,
   "id": "851f2f02",
   "metadata": {},
   "outputs": [
    {
     "name": "stdout",
     "output_type": "stream",
     "text": [
      "3569\n"
     ]
    }
   ],
   "source": [
    "print(len(set(reduced_df_scaled[reduced_df_scaled[\"cluster\"]==0][\"id\"])))\n",
    "# general cluster\n",
    "#print(set(reduced_df_scaled[reduced_df_scaled[\"cluster\"]==0][\"id\"]))"
   ]
  },
  {
   "cell_type": "code",
   "execution_count": 50,
   "id": "e4fb1435",
   "metadata": {},
   "outputs": [
    {
     "name": "stdout",
     "output_type": "stream",
     "text": [
      "2035\n"
     ]
    }
   ],
   "source": [
    "print(len(set(reduced_df_scaled[reduced_df_scaled[\"cluster\"]==1][\"id\"])))\n",
    "#dormant\n",
    "#print(set(reduced_df_scaled[reduced_df_scaled[\"cluster\"]==1][\"id\"]))"
   ]
  },
  {
   "cell_type": "code",
   "execution_count": 53,
   "id": "7a25539d",
   "metadata": {},
   "outputs": [
    {
     "name": "stdout",
     "output_type": "stream",
     "text": [
      "1\n"
     ]
    }
   ],
   "source": [
    "print(len(set(reduced_df_scaled[reduced_df_scaled[\"cluster\"]==2][\"id\"])))\n",
    "#print(set(reduced_df_scaled[reduced_df_scaled[\"cluster\"]==2][\"id\"]))\n",
    "# abnormal"
   ]
  },
  {
   "cell_type": "code",
   "execution_count": 55,
   "id": "ef9b474f",
   "metadata": {},
   "outputs": [
    {
     "name": "stdout",
     "output_type": "stream",
     "text": [
      "4\n",
      "{65, 50, 4691, 148}\n"
     ]
    }
   ],
   "source": [
    "print(len(set(reduced_df_scaled[reduced_df_scaled[\"cluster\"]==3][\"id\"])))\n",
    "print(set(reduced_df_scaled[reduced_df_scaled[\"cluster\"]==3][\"id\"]))\n",
    "# Rare group"
   ]
  },
  {
   "cell_type": "code",
   "execution_count": 178,
   "id": "94948afc",
   "metadata": {},
   "outputs": [
    {
     "name": "stdout",
     "output_type": "stream",
     "text": [
      "0\n"
     ]
    }
   ],
   "source": [
    "print(len(set(reduced_df_scaled[reduced_df_scaled[\"cluster\"]==4][\"id\"])))\n",
    "#print(set(reduced_df_scaled[reduced_df_scaled[\"cluster\"]==1][\"id\"]))"
   ]
  },
  {
   "cell_type": "code",
   "execution_count": 56,
   "id": "a6e5934d",
   "metadata": {},
   "outputs": [],
   "source": [
    "all_activity_df[\"cluster\"] = list(reduced_df_scaled[\"cluster\"])"
   ]
  },
  {
   "cell_type": "code",
   "execution_count": 57,
   "id": "e96d21ef",
   "metadata": {},
   "outputs": [
    {
     "data": {
      "text/html": [
       "<div>\n",
       "<style scoped>\n",
       "    .dataframe tbody tr th:only-of-type {\n",
       "        vertical-align: middle;\n",
       "    }\n",
       "\n",
       "    .dataframe tbody tr th {\n",
       "        vertical-align: top;\n",
       "    }\n",
       "\n",
       "    .dataframe thead th {\n",
       "        text-align: right;\n",
       "    }\n",
       "</style>\n",
       "<table border=\"1\" class=\"dataframe\">\n",
       "  <thead>\n",
       "    <tr style=\"text-align: right;\">\n",
       "      <th></th>\n",
       "      <th>id</th>\n",
       "      <th>ALEXA_RANK</th>\n",
       "      <th>EMPLOYEE_RANGE</th>\n",
       "      <th>INDUSTRY</th>\n",
       "      <th>MRR</th>\n",
       "      <th>DATE</th>\n",
       "      <th>ACTIONS_CRM_CONTACTS</th>\n",
       "      <th>ACTIONS_CRM_COMPANIES</th>\n",
       "      <th>ACTIONS_CRM_DEALS</th>\n",
       "      <th>ACTIONS_EMAIL</th>\n",
       "      <th>USERS_CRM_CONTACTS</th>\n",
       "      <th>USERS_CRM_COMPANIES</th>\n",
       "      <th>USERS_CRM_DEALS</th>\n",
       "      <th>USERS_EMAIL</th>\n",
       "      <th>LASTUSED</th>\n",
       "      <th>MEMBERSHIPTYPE</th>\n",
       "      <th>Cluster</th>\n",
       "      <th>cluster</th>\n",
       "    </tr>\n",
       "  </thead>\n",
       "  <tbody>\n",
       "    <tr>\n",
       "      <th>0</th>\n",
       "      <td>199</td>\n",
       "      <td>309343.0</td>\n",
       "      <td>201 to 1000</td>\n",
       "      <td>Other</td>\n",
       "      <td>290.0</td>\n",
       "      <td>2019-01-07</td>\n",
       "      <td>61.0</td>\n",
       "      <td>0.0</td>\n",
       "      <td>0.0</td>\n",
       "      <td>7.0</td>\n",
       "      <td>10.0</td>\n",
       "      <td>0.0</td>\n",
       "      <td>0.0</td>\n",
       "      <td>4.0</td>\n",
       "      <td>0</td>\n",
       "      <td>BEFORE-PREMIUM</td>\n",
       "      <td>0</td>\n",
       "      <td>0</td>\n",
       "    </tr>\n",
       "    <tr>\n",
       "      <th>1</th>\n",
       "      <td>199</td>\n",
       "      <td>309343.0</td>\n",
       "      <td>201 to 1000</td>\n",
       "      <td>Other</td>\n",
       "      <td>290.0</td>\n",
       "      <td>2019-01-14</td>\n",
       "      <td>0.0</td>\n",
       "      <td>0.0</td>\n",
       "      <td>0.0</td>\n",
       "      <td>0.0</td>\n",
       "      <td>0.0</td>\n",
       "      <td>0.0</td>\n",
       "      <td>0.0</td>\n",
       "      <td>0.0</td>\n",
       "      <td>7</td>\n",
       "      <td>BEFORE-PREMIUM</td>\n",
       "      <td>0</td>\n",
       "      <td>0</td>\n",
       "    </tr>\n",
       "    <tr>\n",
       "      <th>2</th>\n",
       "      <td>199</td>\n",
       "      <td>309343.0</td>\n",
       "      <td>201 to 1000</td>\n",
       "      <td>Other</td>\n",
       "      <td>290.0</td>\n",
       "      <td>2019-01-21</td>\n",
       "      <td>21.0</td>\n",
       "      <td>0.0</td>\n",
       "      <td>0.0</td>\n",
       "      <td>33.0</td>\n",
       "      <td>6.0</td>\n",
       "      <td>0.0</td>\n",
       "      <td>0.0</td>\n",
       "      <td>6.0</td>\n",
       "      <td>0</td>\n",
       "      <td>BEFORE-PREMIUM</td>\n",
       "      <td>0</td>\n",
       "      <td>0</td>\n",
       "    </tr>\n",
       "    <tr>\n",
       "      <th>3</th>\n",
       "      <td>199</td>\n",
       "      <td>309343.0</td>\n",
       "      <td>201 to 1000</td>\n",
       "      <td>Other</td>\n",
       "      <td>290.0</td>\n",
       "      <td>2019-01-28</td>\n",
       "      <td>108.0</td>\n",
       "      <td>0.0</td>\n",
       "      <td>3.0</td>\n",
       "      <td>74.0</td>\n",
       "      <td>9.0</td>\n",
       "      <td>0.0</td>\n",
       "      <td>1.0</td>\n",
       "      <td>10.0</td>\n",
       "      <td>0</td>\n",
       "      <td>BEFORE-PREMIUM</td>\n",
       "      <td>0</td>\n",
       "      <td>0</td>\n",
       "    </tr>\n",
       "    <tr>\n",
       "      <th>4</th>\n",
       "      <td>199</td>\n",
       "      <td>309343.0</td>\n",
       "      <td>201 to 1000</td>\n",
       "      <td>Other</td>\n",
       "      <td>290.0</td>\n",
       "      <td>2019-02-04</td>\n",
       "      <td>114.0</td>\n",
       "      <td>0.0</td>\n",
       "      <td>5.0</td>\n",
       "      <td>58.0</td>\n",
       "      <td>10.0</td>\n",
       "      <td>0.0</td>\n",
       "      <td>2.0</td>\n",
       "      <td>9.0</td>\n",
       "      <td>0</td>\n",
       "      <td>BEFORE-PREMIUM</td>\n",
       "      <td>0</td>\n",
       "      <td>0</td>\n",
       "    </tr>\n",
       "  </tbody>\n",
       "</table>\n",
       "</div>"
      ],
      "text/plain": [
       "    id  ALEXA_RANK EMPLOYEE_RANGE INDUSTRY    MRR        DATE  \\\n",
       "0  199    309343.0    201 to 1000    Other  290.0  2019-01-07   \n",
       "1  199    309343.0    201 to 1000    Other  290.0  2019-01-14   \n",
       "2  199    309343.0    201 to 1000    Other  290.0  2019-01-21   \n",
       "3  199    309343.0    201 to 1000    Other  290.0  2019-01-28   \n",
       "4  199    309343.0    201 to 1000    Other  290.0  2019-02-04   \n",
       "\n",
       "   ACTIONS_CRM_CONTACTS  ACTIONS_CRM_COMPANIES  ACTIONS_CRM_DEALS  \\\n",
       "0                  61.0                    0.0                0.0   \n",
       "1                   0.0                    0.0                0.0   \n",
       "2                  21.0                    0.0                0.0   \n",
       "3                 108.0                    0.0                3.0   \n",
       "4                 114.0                    0.0                5.0   \n",
       "\n",
       "   ACTIONS_EMAIL  USERS_CRM_CONTACTS  USERS_CRM_COMPANIES  USERS_CRM_DEALS  \\\n",
       "0            7.0                10.0                  0.0              0.0   \n",
       "1            0.0                 0.0                  0.0              0.0   \n",
       "2           33.0                 6.0                  0.0              0.0   \n",
       "3           74.0                 9.0                  0.0              1.0   \n",
       "4           58.0                10.0                  0.0              2.0   \n",
       "\n",
       "   USERS_EMAIL  LASTUSED  MEMBERSHIPTYPE  Cluster  cluster  \n",
       "0          4.0         0  BEFORE-PREMIUM        0        0  \n",
       "1          0.0         7  BEFORE-PREMIUM        0        0  \n",
       "2          6.0         0  BEFORE-PREMIUM        0        0  \n",
       "3         10.0         0  BEFORE-PREMIUM        0        0  \n",
       "4          9.0         0  BEFORE-PREMIUM        0        0  "
      ]
     },
     "execution_count": 57,
     "metadata": {},
     "output_type": "execute_result"
    }
   ],
   "source": [
    "all_activity_df.head()"
   ]
  },
  {
   "cell_type": "code",
   "execution_count": 59,
   "id": "7cff61aa",
   "metadata": {},
   "outputs": [],
   "source": [
    "all_activity_df['persona'] = all_activity_df['cluster'].map({0:'General', 1:'Dormant', 2:'Abnormal', 3: 'Rare'})"
   ]
  },
  {
   "cell_type": "code",
   "execution_count": 60,
   "id": "631e8dbd",
   "metadata": {},
   "outputs": [
    {
     "data": {
      "text/html": [
       "<div>\n",
       "<style scoped>\n",
       "    .dataframe tbody tr th:only-of-type {\n",
       "        vertical-align: middle;\n",
       "    }\n",
       "\n",
       "    .dataframe tbody tr th {\n",
       "        vertical-align: top;\n",
       "    }\n",
       "\n",
       "    .dataframe thead th {\n",
       "        text-align: right;\n",
       "    }\n",
       "</style>\n",
       "<table border=\"1\" class=\"dataframe\">\n",
       "  <thead>\n",
       "    <tr style=\"text-align: right;\">\n",
       "      <th></th>\n",
       "      <th>id</th>\n",
       "      <th>ALEXA_RANK</th>\n",
       "      <th>EMPLOYEE_RANGE</th>\n",
       "      <th>INDUSTRY</th>\n",
       "      <th>MRR</th>\n",
       "      <th>DATE</th>\n",
       "      <th>ACTIONS_CRM_CONTACTS</th>\n",
       "      <th>ACTIONS_CRM_COMPANIES</th>\n",
       "      <th>ACTIONS_CRM_DEALS</th>\n",
       "      <th>ACTIONS_EMAIL</th>\n",
       "      <th>USERS_CRM_CONTACTS</th>\n",
       "      <th>USERS_CRM_COMPANIES</th>\n",
       "      <th>USERS_CRM_DEALS</th>\n",
       "      <th>USERS_EMAIL</th>\n",
       "      <th>LASTUSED</th>\n",
       "      <th>MEMBERSHIPTYPE</th>\n",
       "      <th>Cluster</th>\n",
       "      <th>cluster</th>\n",
       "      <th>persona</th>\n",
       "    </tr>\n",
       "  </thead>\n",
       "  <tbody>\n",
       "    <tr>\n",
       "      <th>0</th>\n",
       "      <td>199</td>\n",
       "      <td>309343.0</td>\n",
       "      <td>201 to 1000</td>\n",
       "      <td>Other</td>\n",
       "      <td>290.0</td>\n",
       "      <td>2019-01-07</td>\n",
       "      <td>61.0</td>\n",
       "      <td>0.0</td>\n",
       "      <td>0.0</td>\n",
       "      <td>7.0</td>\n",
       "      <td>10.0</td>\n",
       "      <td>0.0</td>\n",
       "      <td>0.0</td>\n",
       "      <td>4.0</td>\n",
       "      <td>0</td>\n",
       "      <td>BEFORE-PREMIUM</td>\n",
       "      <td>0</td>\n",
       "      <td>0</td>\n",
       "      <td>General</td>\n",
       "    </tr>\n",
       "    <tr>\n",
       "      <th>1</th>\n",
       "      <td>199</td>\n",
       "      <td>309343.0</td>\n",
       "      <td>201 to 1000</td>\n",
       "      <td>Other</td>\n",
       "      <td>290.0</td>\n",
       "      <td>2019-01-14</td>\n",
       "      <td>0.0</td>\n",
       "      <td>0.0</td>\n",
       "      <td>0.0</td>\n",
       "      <td>0.0</td>\n",
       "      <td>0.0</td>\n",
       "      <td>0.0</td>\n",
       "      <td>0.0</td>\n",
       "      <td>0.0</td>\n",
       "      <td>7</td>\n",
       "      <td>BEFORE-PREMIUM</td>\n",
       "      <td>0</td>\n",
       "      <td>0</td>\n",
       "      <td>General</td>\n",
       "    </tr>\n",
       "    <tr>\n",
       "      <th>2</th>\n",
       "      <td>199</td>\n",
       "      <td>309343.0</td>\n",
       "      <td>201 to 1000</td>\n",
       "      <td>Other</td>\n",
       "      <td>290.0</td>\n",
       "      <td>2019-01-21</td>\n",
       "      <td>21.0</td>\n",
       "      <td>0.0</td>\n",
       "      <td>0.0</td>\n",
       "      <td>33.0</td>\n",
       "      <td>6.0</td>\n",
       "      <td>0.0</td>\n",
       "      <td>0.0</td>\n",
       "      <td>6.0</td>\n",
       "      <td>0</td>\n",
       "      <td>BEFORE-PREMIUM</td>\n",
       "      <td>0</td>\n",
       "      <td>0</td>\n",
       "      <td>General</td>\n",
       "    </tr>\n",
       "    <tr>\n",
       "      <th>3</th>\n",
       "      <td>199</td>\n",
       "      <td>309343.0</td>\n",
       "      <td>201 to 1000</td>\n",
       "      <td>Other</td>\n",
       "      <td>290.0</td>\n",
       "      <td>2019-01-28</td>\n",
       "      <td>108.0</td>\n",
       "      <td>0.0</td>\n",
       "      <td>3.0</td>\n",
       "      <td>74.0</td>\n",
       "      <td>9.0</td>\n",
       "      <td>0.0</td>\n",
       "      <td>1.0</td>\n",
       "      <td>10.0</td>\n",
       "      <td>0</td>\n",
       "      <td>BEFORE-PREMIUM</td>\n",
       "      <td>0</td>\n",
       "      <td>0</td>\n",
       "      <td>General</td>\n",
       "    </tr>\n",
       "    <tr>\n",
       "      <th>4</th>\n",
       "      <td>199</td>\n",
       "      <td>309343.0</td>\n",
       "      <td>201 to 1000</td>\n",
       "      <td>Other</td>\n",
       "      <td>290.0</td>\n",
       "      <td>2019-02-04</td>\n",
       "      <td>114.0</td>\n",
       "      <td>0.0</td>\n",
       "      <td>5.0</td>\n",
       "      <td>58.0</td>\n",
       "      <td>10.0</td>\n",
       "      <td>0.0</td>\n",
       "      <td>2.0</td>\n",
       "      <td>9.0</td>\n",
       "      <td>0</td>\n",
       "      <td>BEFORE-PREMIUM</td>\n",
       "      <td>0</td>\n",
       "      <td>0</td>\n",
       "      <td>General</td>\n",
       "    </tr>\n",
       "  </tbody>\n",
       "</table>\n",
       "</div>"
      ],
      "text/plain": [
       "    id  ALEXA_RANK EMPLOYEE_RANGE INDUSTRY    MRR        DATE  \\\n",
       "0  199    309343.0    201 to 1000    Other  290.0  2019-01-07   \n",
       "1  199    309343.0    201 to 1000    Other  290.0  2019-01-14   \n",
       "2  199    309343.0    201 to 1000    Other  290.0  2019-01-21   \n",
       "3  199    309343.0    201 to 1000    Other  290.0  2019-01-28   \n",
       "4  199    309343.0    201 to 1000    Other  290.0  2019-02-04   \n",
       "\n",
       "   ACTIONS_CRM_CONTACTS  ACTIONS_CRM_COMPANIES  ACTIONS_CRM_DEALS  \\\n",
       "0                  61.0                    0.0                0.0   \n",
       "1                   0.0                    0.0                0.0   \n",
       "2                  21.0                    0.0                0.0   \n",
       "3                 108.0                    0.0                3.0   \n",
       "4                 114.0                    0.0                5.0   \n",
       "\n",
       "   ACTIONS_EMAIL  USERS_CRM_CONTACTS  USERS_CRM_COMPANIES  USERS_CRM_DEALS  \\\n",
       "0            7.0                10.0                  0.0              0.0   \n",
       "1            0.0                 0.0                  0.0              0.0   \n",
       "2           33.0                 6.0                  0.0              0.0   \n",
       "3           74.0                 9.0                  0.0              1.0   \n",
       "4           58.0                10.0                  0.0              2.0   \n",
       "\n",
       "   USERS_EMAIL  LASTUSED  MEMBERSHIPTYPE  Cluster  cluster  persona  \n",
       "0          4.0         0  BEFORE-PREMIUM        0        0  General  \n",
       "1          0.0         7  BEFORE-PREMIUM        0        0  General  \n",
       "2          6.0         0  BEFORE-PREMIUM        0        0  General  \n",
       "3         10.0         0  BEFORE-PREMIUM        0        0  General  \n",
       "4          9.0         0  BEFORE-PREMIUM        0        0  General  "
      ]
     },
     "execution_count": 60,
     "metadata": {},
     "output_type": "execute_result"
    }
   ],
   "source": [
    "all_activity_df.head()"
   ]
  },
  {
   "cell_type": "code",
   "execution_count": 61,
   "id": "e82d6d4a",
   "metadata": {},
   "outputs": [
    {
     "data": {
      "text/html": [
       "<div>\n",
       "<style scoped>\n",
       "    .dataframe tbody tr th:only-of-type {\n",
       "        vertical-align: middle;\n",
       "    }\n",
       "\n",
       "    .dataframe tbody tr th {\n",
       "        vertical-align: top;\n",
       "    }\n",
       "\n",
       "    .dataframe thead th {\n",
       "        text-align: right;\n",
       "    }\n",
       "</style>\n",
       "<table border=\"1\" class=\"dataframe\">\n",
       "  <thead>\n",
       "    <tr style=\"text-align: right;\">\n",
       "      <th></th>\n",
       "      <th>id</th>\n",
       "      <th>ALEXA_RANK</th>\n",
       "      <th>EMPLOYEE_RANGE</th>\n",
       "      <th>INDUSTRY</th>\n",
       "      <th>MRR</th>\n",
       "      <th>DATE</th>\n",
       "      <th>ACTIONS_CRM_CONTACTS</th>\n",
       "      <th>ACTIONS_CRM_COMPANIES</th>\n",
       "      <th>ACTIONS_CRM_DEALS</th>\n",
       "      <th>ACTIONS_EMAIL</th>\n",
       "      <th>USERS_CRM_CONTACTS</th>\n",
       "      <th>USERS_CRM_COMPANIES</th>\n",
       "      <th>USERS_CRM_DEALS</th>\n",
       "      <th>USERS_EMAIL</th>\n",
       "      <th>LASTUSED</th>\n",
       "      <th>MEMBERSHIPTYPE</th>\n",
       "      <th>Cluster</th>\n",
       "      <th>cluster</th>\n",
       "      <th>persona</th>\n",
       "    </tr>\n",
       "  </thead>\n",
       "  <tbody>\n",
       "    <tr>\n",
       "      <th>143390</th>\n",
       "      <td>4011</td>\n",
       "      <td>16000001.0</td>\n",
       "      <td>51 to 200</td>\n",
       "      <td>NaN</td>\n",
       "      <td>0.0</td>\n",
       "      <td>2020-08-17</td>\n",
       "      <td>0.0</td>\n",
       "      <td>0.0</td>\n",
       "      <td>0.0</td>\n",
       "      <td>0.0</td>\n",
       "      <td>0.0</td>\n",
       "      <td>0.0</td>\n",
       "      <td>0.0</td>\n",
       "      <td>0.0</td>\n",
       "      <td>21</td>\n",
       "      <td>FREE</td>\n",
       "      <td>0</td>\n",
       "      <td>0</td>\n",
       "      <td>General</td>\n",
       "    </tr>\n",
       "    <tr>\n",
       "      <th>143391</th>\n",
       "      <td>3104</td>\n",
       "      <td>16000001.0</td>\n",
       "      <td>2 to 5</td>\n",
       "      <td>NaN</td>\n",
       "      <td>0.0</td>\n",
       "      <td>2020-07-27</td>\n",
       "      <td>0.0</td>\n",
       "      <td>0.0</td>\n",
       "      <td>0.0</td>\n",
       "      <td>0.0</td>\n",
       "      <td>0.0</td>\n",
       "      <td>0.0</td>\n",
       "      <td>0.0</td>\n",
       "      <td>0.0</td>\n",
       "      <td>0</td>\n",
       "      <td>FREE</td>\n",
       "      <td>0</td>\n",
       "      <td>0</td>\n",
       "      <td>General</td>\n",
       "    </tr>\n",
       "    <tr>\n",
       "      <th>143392</th>\n",
       "      <td>3104</td>\n",
       "      <td>16000001.0</td>\n",
       "      <td>2 to 5</td>\n",
       "      <td>NaN</td>\n",
       "      <td>0.0</td>\n",
       "      <td>2020-08-03</td>\n",
       "      <td>0.0</td>\n",
       "      <td>0.0</td>\n",
       "      <td>0.0</td>\n",
       "      <td>0.0</td>\n",
       "      <td>0.0</td>\n",
       "      <td>0.0</td>\n",
       "      <td>0.0</td>\n",
       "      <td>0.0</td>\n",
       "      <td>7</td>\n",
       "      <td>FREE</td>\n",
       "      <td>0</td>\n",
       "      <td>0</td>\n",
       "      <td>General</td>\n",
       "    </tr>\n",
       "    <tr>\n",
       "      <th>143393</th>\n",
       "      <td>3104</td>\n",
       "      <td>16000001.0</td>\n",
       "      <td>2 to 5</td>\n",
       "      <td>NaN</td>\n",
       "      <td>0.0</td>\n",
       "      <td>2020-08-10</td>\n",
       "      <td>0.0</td>\n",
       "      <td>0.0</td>\n",
       "      <td>0.0</td>\n",
       "      <td>0.0</td>\n",
       "      <td>0.0</td>\n",
       "      <td>0.0</td>\n",
       "      <td>0.0</td>\n",
       "      <td>0.0</td>\n",
       "      <td>14</td>\n",
       "      <td>FREE</td>\n",
       "      <td>0</td>\n",
       "      <td>0</td>\n",
       "      <td>General</td>\n",
       "    </tr>\n",
       "    <tr>\n",
       "      <th>143394</th>\n",
       "      <td>3104</td>\n",
       "      <td>16000001.0</td>\n",
       "      <td>2 to 5</td>\n",
       "      <td>NaN</td>\n",
       "      <td>0.0</td>\n",
       "      <td>2020-08-17</td>\n",
       "      <td>0.0</td>\n",
       "      <td>0.0</td>\n",
       "      <td>0.0</td>\n",
       "      <td>0.0</td>\n",
       "      <td>0.0</td>\n",
       "      <td>0.0</td>\n",
       "      <td>0.0</td>\n",
       "      <td>0.0</td>\n",
       "      <td>21</td>\n",
       "      <td>FREE</td>\n",
       "      <td>0</td>\n",
       "      <td>0</td>\n",
       "      <td>General</td>\n",
       "    </tr>\n",
       "  </tbody>\n",
       "</table>\n",
       "</div>"
      ],
      "text/plain": [
       "          id  ALEXA_RANK EMPLOYEE_RANGE INDUSTRY  MRR        DATE  \\\n",
       "143390  4011  16000001.0      51 to 200      NaN  0.0  2020-08-17   \n",
       "143391  3104  16000001.0         2 to 5      NaN  0.0  2020-07-27   \n",
       "143392  3104  16000001.0         2 to 5      NaN  0.0  2020-08-03   \n",
       "143393  3104  16000001.0         2 to 5      NaN  0.0  2020-08-10   \n",
       "143394  3104  16000001.0         2 to 5      NaN  0.0  2020-08-17   \n",
       "\n",
       "        ACTIONS_CRM_CONTACTS  ACTIONS_CRM_COMPANIES  ACTIONS_CRM_DEALS  \\\n",
       "143390                   0.0                    0.0                0.0   \n",
       "143391                   0.0                    0.0                0.0   \n",
       "143392                   0.0                    0.0                0.0   \n",
       "143393                   0.0                    0.0                0.0   \n",
       "143394                   0.0                    0.0                0.0   \n",
       "\n",
       "        ACTIONS_EMAIL  USERS_CRM_CONTACTS  USERS_CRM_COMPANIES  \\\n",
       "143390            0.0                 0.0                  0.0   \n",
       "143391            0.0                 0.0                  0.0   \n",
       "143392            0.0                 0.0                  0.0   \n",
       "143393            0.0                 0.0                  0.0   \n",
       "143394            0.0                 0.0                  0.0   \n",
       "\n",
       "        USERS_CRM_DEALS  USERS_EMAIL  LASTUSED MEMBERSHIPTYPE  Cluster  \\\n",
       "143390              0.0          0.0        21           FREE        0   \n",
       "143391              0.0          0.0         0           FREE        0   \n",
       "143392              0.0          0.0         7           FREE        0   \n",
       "143393              0.0          0.0        14           FREE        0   \n",
       "143394              0.0          0.0        21           FREE        0   \n",
       "\n",
       "        cluster  persona  \n",
       "143390        0  General  \n",
       "143391        0  General  \n",
       "143392        0  General  \n",
       "143393        0  General  \n",
       "143394        0  General  "
      ]
     },
     "execution_count": 61,
     "metadata": {},
     "output_type": "execute_result"
    }
   ],
   "source": [
    "all_activity_df.tail()"
   ]
  },
  {
   "cell_type": "code",
   "execution_count": 72,
   "id": "c724e004",
   "metadata": {},
   "outputs": [
    {
     "data": {
      "text/plain": [
       "General     112069\n",
       "Dormant      43009\n",
       "Rare            70\n",
       "Abnormal        10\n",
       "Name: persona, dtype: int64"
      ]
     },
     "execution_count": 72,
     "metadata": {},
     "output_type": "execute_result"
    }
   ],
   "source": [
    "all_activity_df['persona'].value_counts()"
   ]
  },
  {
   "cell_type": "code",
   "execution_count": 66,
   "id": "def01d94",
   "metadata": {},
   "outputs": [],
   "source": [
    "states = None\n",
    "distinct_cust_journey = None\n",
    "def state_reset():\n",
    "    global states \n",
    "    states = [('Start', 'General'),\n",
    "    ('Start', 'Dormant'),\n",
    "    ('Start', 'Abnormal'),\n",
    "    ('Start', 'Rare'),] + [(i, j) for i in ['General', 'Dormant', 'Rare', 'Abnormal'] for j in ['General', 'Dormant', 'Rare', 'Abnormal']]\n",
    "\n",
    "    states = {i:0 for i in states}\n",
    "    global distinct_cust_journey \n",
    "    distinct_cust_journey = {i:set() for i in states}\n",
    "\n",
    "def simulate_customer_journey(id):\n",
    "    prev = None\n",
    "\n",
    "    for _, i in all_activity_df[all_activity_df[\"id\"] == id].sort_values(by=\"DATE\").iterrows():\n",
    "        if prev is None:\n",
    "            key = ('Start', i.persona)\n",
    "        else:\n",
    "            key = (prev, i.persona)\n",
    "        states[key] += 1\n",
    "        distinct_cust_journey[key].add(id)\n",
    "        prev = i.persona"
   ]
  },
  {
   "cell_type": "code",
   "execution_count": 70,
   "id": "83883719",
   "metadata": {},
   "outputs": [],
   "source": [
    "all_customers = set(all_activity_df[\"id\"])\n",
    "state_reset()\n",
    "for id in all_customers:\n",
    "    simulate_customer_journey(id)\n",
    "    "
   ]
  },
  {
   "cell_type": "code",
   "execution_count": 75,
   "id": "7c8d841b",
   "metadata": {},
   "outputs": [
    {
     "data": {
      "text/plain": [
       "{('Start', 'General'): 3569,\n",
       " ('Start', 'Dormant'): 0,\n",
       " ('Start', 'Abnormal'): 0,\n",
       " ('Start', 'Rare'): 0,\n",
       " ('General', 'General'): 3569,\n",
       " ('General', 'Dormant'): 2035,\n",
       " ('General', 'Rare'): 4,\n",
       " ('General', 'Abnormal'): 1,\n",
       " ('Dormant', 'General'): 359,\n",
       " ('Dormant', 'Dormant'): 1987,\n",
       " ('Dormant', 'Rare'): 0,\n",
       " ('Dormant', 'Abnormal'): 0,\n",
       " ('Rare', 'General'): 4,\n",
       " ('Rare', 'Dormant'): 0,\n",
       " ('Rare', 'Rare'): 2,\n",
       " ('Rare', 'Abnormal'): 0,\n",
       " ('Abnormal', 'General'): 1,\n",
       " ('Abnormal', 'Dormant'): 0,\n",
       " ('Abnormal', 'Rare'): 0,\n",
       " ('Abnormal', 'Abnormal'): 1}"
      ]
     },
     "execution_count": 75,
     "metadata": {},
     "output_type": "execute_result"
    }
   ],
   "source": [
    "{k: len(i) for k, i in distinct_cust_journey.items()}"
   ]
  },
  {
   "cell_type": "code",
   "execution_count": 76,
   "id": "6957c3c1",
   "metadata": {},
   "outputs": [
    {
     "data": {
      "text/plain": [
       "{('Start', 'General'): 3569,\n",
       " ('Start', 'Dormant'): 0,\n",
       " ('Start', 'Abnormal'): 0,\n",
       " ('Start', 'Rare'): 0,\n",
       " ('General', 'General'): 108112,\n",
       " ('General', 'Dormant'): 2347,\n",
       " ('General', 'Rare'): 23,\n",
       " ('General', 'Abnormal'): 3,\n",
       " ('Dormant', 'General'): 362,\n",
       " ('Dormant', 'Dormant'): 40662,\n",
       " ('Dormant', 'Rare'): 0,\n",
       " ('Dormant', 'Abnormal'): 0,\n",
       " ('Rare', 'General'): 23,\n",
       " ('Rare', 'Dormant'): 0,\n",
       " ('Rare', 'Rare'): 47,\n",
       " ('Rare', 'Abnormal'): 0,\n",
       " ('Abnormal', 'General'): 3,\n",
       " ('Abnormal', 'Dormant'): 0,\n",
       " ('Abnormal', 'Rare'): 0,\n",
       " ('Abnormal', 'Abnormal'): 7}"
      ]
     },
     "execution_count": 76,
     "metadata": {},
     "output_type": "execute_result"
    }
   ],
   "source": [
    "states"
   ]
  },
  {
   "cell_type": "code",
   "execution_count": 77,
   "id": "b5244603",
   "metadata": {},
   "outputs": [],
   "source": [
    "all_customers = set(all_activity_df[all_activity_df[\"MEMBERSHIPTYPE\"] == 'PREMIUM'][\"id\"])\n",
    "state_reset()\n",
    "for id in all_customers:\n",
    "    simulate_customer_journey(id)\n",
    "    "
   ]
  },
  {
   "cell_type": "code",
   "execution_count": 78,
   "id": "f5b38533",
   "metadata": {},
   "outputs": [
    {
     "data": {
      "text/plain": [
       "{('Start', 'General'): 188,\n",
       " ('Start', 'Dormant'): 0,\n",
       " ('Start', 'Abnormal'): 0,\n",
       " ('Start', 'Rare'): 0,\n",
       " ('General', 'General'): 188,\n",
       " ('General', 'Dormant'): 9,\n",
       " ('General', 'Rare'): 3,\n",
       " ('General', 'Abnormal'): 1,\n",
       " ('Dormant', 'General'): 4,\n",
       " ('Dormant', 'Dormant'): 8,\n",
       " ('Dormant', 'Rare'): 0,\n",
       " ('Dormant', 'Abnormal'): 0,\n",
       " ('Rare', 'General'): 3,\n",
       " ('Rare', 'Dormant'): 0,\n",
       " ('Rare', 'Rare'): 2,\n",
       " ('Rare', 'Abnormal'): 0,\n",
       " ('Abnormal', 'General'): 1,\n",
       " ('Abnormal', 'Dormant'): 0,\n",
       " ('Abnormal', 'Rare'): 0,\n",
       " ('Abnormal', 'Abnormal'): 1}"
      ]
     },
     "execution_count": 78,
     "metadata": {},
     "output_type": "execute_result"
    }
   ],
   "source": [
    "{k: len(i) for k, i in distinct_cust_journey.items()}"
   ]
  },
  {
   "cell_type": "code",
   "execution_count": 79,
   "id": "a7cb32ae",
   "metadata": {},
   "outputs": [],
   "source": [
    "all_customers = set(all_activity_df[all_activity_df[\"MEMBERSHIPTYPE\"] == 'FREE'][\"id\"])\n",
    "state_reset()\n",
    "for id in all_customers:\n",
    "    simulate_customer_journey(id)\n",
    "    "
   ]
  },
  {
   "cell_type": "code",
   "execution_count": 80,
   "id": "aa4ff6b5",
   "metadata": {},
   "outputs": [
    {
     "data": {
      "text/plain": [
       "{('Start', 'General'): 3370,\n",
       " ('Start', 'Dormant'): 0,\n",
       " ('Start', 'Abnormal'): 0,\n",
       " ('Start', 'Rare'): 0,\n",
       " ('General', 'General'): 3370,\n",
       " ('General', 'Dormant'): 2026,\n",
       " ('General', 'Rare'): 1,\n",
       " ('General', 'Abnormal'): 0,\n",
       " ('Dormant', 'General'): 355,\n",
       " ('Dormant', 'Dormant'): 1979,\n",
       " ('Dormant', 'Rare'): 0,\n",
       " ('Dormant', 'Abnormal'): 0,\n",
       " ('Rare', 'General'): 1,\n",
       " ('Rare', 'Dormant'): 0,\n",
       " ('Rare', 'Rare'): 0,\n",
       " ('Rare', 'Abnormal'): 0,\n",
       " ('Abnormal', 'General'): 0,\n",
       " ('Abnormal', 'Dormant'): 0,\n",
       " ('Abnormal', 'Rare'): 0,\n",
       " ('Abnormal', 'Abnormal'): 0}"
      ]
     },
     "execution_count": 80,
     "metadata": {},
     "output_type": "execute_result"
    }
   ],
   "source": [
    "{k: len(i) for k, i in distinct_cust_journey.items()}"
   ]
  }
 ],
 "metadata": {
  "kernelspec": {
   "display_name": "Python 3 (ipykernel)",
   "language": "python",
   "name": "python3"
  },
  "language_info": {
   "codemirror_mode": {
    "name": "ipython",
    "version": 3
   },
   "file_extension": ".py",
   "mimetype": "text/x-python",
   "name": "python",
   "nbconvert_exporter": "python",
   "pygments_lexer": "ipython3",
   "version": "3.10.8"
  }
 },
 "nbformat": 4,
 "nbformat_minor": 5
}
