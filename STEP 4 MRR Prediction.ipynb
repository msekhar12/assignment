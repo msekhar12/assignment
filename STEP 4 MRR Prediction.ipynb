{
 "cells": [
  {
   "cell_type": "markdown",
   "id": "ca588231",
   "metadata": {},
   "source": [
    "## MRR Model\n",
    "\n",
    "\n",
    "\n",
    "* MRR - Monthly Recurring Revenue\n",
    "\n",
    "## Approach\n",
    "\n",
    "* We will use the following columns as input:\n",
    "\n",
    "```\n",
    "'ACTIONS_CRM_CONTACTS' \n",
    "'ACTIONS_CRM_COMPANIES'\n",
    "'ACTIONS_CRM_DEALS' \n",
    "'ACTIONS_EMAIL' \n",
    "'USERS_CRM_COMPANIES' \n",
    "'USERS_CRM_CONTACTS' \n",
    "'USERS_CRM_DEALS' \n",
    "'USERS_EMAIL' \n",
    "'LASTUSED' (New column I added)\n",
    "```\n",
    "\n",
    "NOTE: Other columns like ALEXARANK, EMP_RANGE do not have any relation to MRR\n",
    "\n",
    "* Keep some test data aside (20 premium customers)\n",
    "\n",
    "* On the remaining premium customers, perform PCA and choose optimal number of dimensions\n",
    "\n",
    "* Train a Linear Regression model, Random forest Regressor\n",
    "\n",
    "* Use CV technique to find the RMSE, and compare the models.\n",
    "\n",
    "* Choose the best model\n",
    "\n",
    "* Apply the model on the results\n",
    "\n",
    "* Create a prediction pipeline\n",
    "\n",
    "* Apply the prediction pipeline on the current data with free customers, to predict their potential MRR\n",
    "\n",
    "\n",
    "\n",
    "### Results\n",
    "* There are some PREMIUM customers who are paying negative premium\n",
    "\n",
    "* There are some PREMIUM customers who are paying the premium, but NOT using the system\n",
    "\n",
    "* PCA resulted in reducing the dimensions to 2 (capturing 98% of the variance)\n",
    "\n",
    "* ALEXARANK, MIN_EMPLOYEES, MAX_EMPLOYEES, AVG_EMPLOYEES (Derived from MIN and MAX) are NOT at all related to MRR\n",
    "\n",
    "* * Obtained a really high RMSE (450)\n",
    "\n",
    "\n",
    "#### NOTE: The code to train, the model and get the inferences in present in the ` Final Code For Training and Prediction` Section.\n"
   ]
  },
  {
   "cell_type": "markdown",
   "id": "c90e3d60",
   "metadata": {},
   "source": [
    "## Final Code For Training and Prediction"
   ]
  },
  {
   "cell_type": "code",
   "execution_count": 1,
   "id": "a36e7d07",
   "metadata": {},
   "outputs": [],
   "source": [
    "import pandas as pd\n",
    "import numpy as np\n",
    "import matplotlib.pyplot as plt\n",
    "# from util import transform_data, cat_to_num_plot\n",
    "import util\n",
    "from sklearn.preprocessing import StandardScaler\n",
    "from sklearn.cluster import KMeans\n",
    "from sklearn.decomposition import PCA\n",
    "import random\n",
    "from sklearn.pipeline import Pipeline\n",
    "from sklearn.impute import SimpleImputer\n",
    "from sklearn.linear_model import LinearRegression\n",
    "\n",
    "\n",
    "\n",
    "def get_test_train_data(all_activity_df, prediction_columns):\n",
    "    '''\n",
    "    we use this only to train and test the model. \n",
    "    We do not need this func for the final training pipeline,\n",
    "    after we chose the best model\n",
    "    '''\n",
    "    random.seed(42)\n",
    "    \n",
    "    test_ids = random.sample((list(set(customers_df[\"id\"]))), 20)\n",
    "    \n",
    "    train_ids = set(customers_df[\"id\"]) - set(test_ids)    \n",
    "    \n",
    "    select_cols = [\"id\"] + prediction_columns + [\"MRR\"]\n",
    "    print(select_cols)\n",
    "    \n",
    "    test_df = all_activity_df[(all_activity_df[\"id\"].isin(test_ids)) & \n",
    "                          (all_activity_df[\"MEMBERSHIPTYPE\"] == 'BEFORE-PREMIUM')].loc[:, select_cols].drop_duplicates()\n",
    "    train_df = all_activity_df[(all_activity_df[\"id\"].isin(train_ids)) &\n",
    "                           (all_activity_df[\"MEMBERSHIPTYPE\"] == 'BEFORE-PREMIUM')].loc[:, select_cols].drop_duplicates()\n",
    "    \n",
    "    return test_df, train_df\n",
    "\n",
    "\n",
    "\n",
    "\n",
    "\n",
    "\n",
    "# test_df, train_df = get_test_train_data(all_activity_df, prediction_columns)\n",
    "\n",
    "def train_model(all_activity_df, prediction_columns):\n",
    "    # Train using all the data (we already obtained test error. see the rest of the notebook)\n",
    "    # df = all_activity_df[prediction_columns]\n",
    "    \n",
    "    df = all_activity_df[all_activity_df[\"MEMBERSHIPTYPE\"] == 'BEFORE-PREMIUM']\n",
    "\n",
    "    y_train = df['MRR']\n",
    "    X_train = df[prediction_columns]\n",
    "\n",
    "    \n",
    "    \n",
    "    transformation_pipeline = Pipeline([\n",
    "    ('pca', PCA(n_components=2, copy=True, random_state=42)),\n",
    "    ('imputer', SimpleImputer(strategy=\"median\")),\n",
    "    ('std-scaler', StandardScaler())\n",
    "    ])\n",
    "    \n",
    "    # We found 2 dims capturing almost 98% of variance\n",
    "    pca = PCA(n_components=2,copy=True,random_state=42)\n",
    "    pca.fit(X_train)\n",
    "\n",
    "    # Transform the data using the fitted PCA\n",
    "    transformation_pipeline.fit(X_train)\n",
    "    X_train_reduced = transformation_pipeline.transform(X_train)\n",
    "\n",
    "    X_train_reduced = pd.DataFrame(X_train_reduced, columns=[\"Dim_1\", \"Dim_2\"])\n",
    "    \n",
    "    # lin reg is the best model for this dataset\n",
    "    lin_reg = LinearRegression()\n",
    "    return lin_reg.fit(X_train_reduced, y_train), transformation_pipeline\n",
    "\n",
    "\n",
    "\n",
    "def predict_mrr(id, model, transformation_pipeline, all_activity_df, prediction_columns):\n",
    "    df = all_activity_df[all_activity_df[\"id\"]==id].sort_values(by=[\"DATE\", \"id\"])[prediction_columns]\n",
    "    df_transformed = pd.DataFrame(transformation_pipeline.transform(df), columns=[\"Dim_1\", \"Dim_2\"])\n",
    "    mrr = model.predict(df_transformed.iloc[-1:, :])\n",
    "    return mrr[0]\n",
    "\n",
    "def mrr_prediction_pipeline(model, transformation_pipeline, all_activity_df, prediction_columns):\n",
    "    customers = list(set(all_activity_df[all_activity_df[\"MEMBERSHIPTYPE\"]=='FREE'][\"id\"]))\n",
    "    MRR = []\n",
    "    ids = []\n",
    "    i = 0\n",
    "    for customer in customers:\n",
    "        ids.append(customer)\n",
    "        MRR.append(predict_mrr(customer, model, transformation_pipeline, all_activity_df, prediction_columns))\n",
    "        if i% 100 == 0:\n",
    "            print(f\"Processed {i} ids\")\n",
    "        i += 1\n",
    "\n",
    "    return ids, MRR\n",
    "        \n",
    "    \n",
    "# Read the files\n",
    "# file paths\n",
    "customers_file = \"./customers (4).csv\"\n",
    "non_customers_file = \"./noncustomers (4).csv\"\n",
    "activity_file = \"./usage_actions (4).csv\"\n",
    "\n",
    "customers_df = pd.read_csv(customers_file)\n",
    "\n",
    "# Read the combined activity file. Check STEP 1 Notebook\n",
    "all_activity_df = util.transform_data(customers_file,non_customers_file,activity_file)\n",
    "\n",
    "\n",
    "prediction_columns = ['ACTIONS_CRM_CONTACTS', 'ACTIONS_CRM_COMPANIES', 'ACTIONS_CRM_DEALS', 'ACTIONS_EMAIL', \\\n",
    "                      'USERS_CRM_COMPANIES', 'USERS_CRM_CONTACTS', 'USERS_CRM_DEALS', 'USERS_EMAIL', 'LASTUSED']\n",
    "\n",
    "\n",
    "\n",
    "    \n",
    "model, transformation_pipeline = train_model(all_activity_df, prediction_columns)    \n",
    "\n",
    "\n",
    "\n",
    "\n",
    "    \n",
    "    \n",
    "    \n"
   ]
  },
  {
   "cell_type": "code",
   "execution_count": 4,
   "id": "b6327d50",
   "metadata": {},
   "outputs": [
    {
     "data": {
      "text/plain": [
       "357.7865668469958"
      ]
     },
     "execution_count": 4,
     "metadata": {},
     "output_type": "execute_result"
    }
   ],
   "source": [
    "predict_mrr(3075, model, transformation_pipeline, all_activity_df, prediction_columns)"
   ]
  },
  {
   "cell_type": "code",
   "execution_count": 5,
   "id": "bc3e4dc4",
   "metadata": {},
   "outputs": [
    {
     "data": {
      "text/plain": [
       "357.7865668469958"
      ]
     },
     "execution_count": 5,
     "metadata": {},
     "output_type": "execute_result"
    }
   ],
   "source": [
    "predict_mrr(1877, model, transformation_pipeline, all_activity_df, prediction_columns)"
   ]
  },
  {
   "cell_type": "code",
   "execution_count": 6,
   "id": "cf1ea04d",
   "metadata": {},
   "outputs": [
    {
     "name": "stdout",
     "output_type": "stream",
     "text": [
      "Processed 0 ids\n",
      "Processed 100 ids\n",
      "Processed 200 ids\n",
      "Processed 300 ids\n",
      "Processed 400 ids\n",
      "Processed 500 ids\n",
      "Processed 600 ids\n",
      "Processed 700 ids\n",
      "Processed 800 ids\n",
      "Processed 900 ids\n",
      "Processed 1000 ids\n",
      "Processed 1100 ids\n",
      "Processed 1200 ids\n",
      "Processed 1300 ids\n",
      "Processed 1400 ids\n",
      "Processed 1500 ids\n",
      "Processed 1600 ids\n",
      "Processed 1700 ids\n",
      "Processed 1800 ids\n",
      "Processed 1900 ids\n",
      "Processed 2000 ids\n",
      "Processed 2100 ids\n",
      "Processed 2200 ids\n",
      "Processed 2300 ids\n",
      "Processed 2400 ids\n",
      "Processed 2500 ids\n",
      "Processed 2600 ids\n",
      "Processed 2700 ids\n",
      "Processed 2800 ids\n",
      "Processed 2900 ids\n",
      "Processed 3000 ids\n",
      "Processed 3100 ids\n",
      "Processed 3200 ids\n",
      "Processed 3300 ids\n"
     ]
    }
   ],
   "source": [
    "ids, mrr = mrr_prediction_pipeline(model, transformation_pipeline, all_activity_df, prediction_columns)"
   ]
  },
  {
   "cell_type": "code",
   "execution_count": 7,
   "id": "8de945d3",
   "metadata": {},
   "outputs": [],
   "source": [
    "predictions = pd.DataFrame({\"id\":ids, \"MRR\":mrr})"
   ]
  },
  {
   "cell_type": "code",
   "execution_count": 8,
   "id": "4ef90ff1",
   "metadata": {},
   "outputs": [
    {
     "data": {
      "text/html": [
       "<div>\n",
       "<style scoped>\n",
       "    .dataframe tbody tr th:only-of-type {\n",
       "        vertical-align: middle;\n",
       "    }\n",
       "\n",
       "    .dataframe tbody tr th {\n",
       "        vertical-align: top;\n",
       "    }\n",
       "\n",
       "    .dataframe thead th {\n",
       "        text-align: right;\n",
       "    }\n",
       "</style>\n",
       "<table border=\"1\" class=\"dataframe\">\n",
       "  <thead>\n",
       "    <tr style=\"text-align: right;\">\n",
       "      <th></th>\n",
       "      <th>id</th>\n",
       "      <th>MRR</th>\n",
       "    </tr>\n",
       "  </thead>\n",
       "  <tbody>\n",
       "    <tr>\n",
       "      <th>0</th>\n",
       "      <td>202</td>\n",
       "      <td>358.460809</td>\n",
       "    </tr>\n",
       "    <tr>\n",
       "      <th>1</th>\n",
       "      <td>203</td>\n",
       "      <td>359.038732</td>\n",
       "    </tr>\n",
       "    <tr>\n",
       "      <th>2</th>\n",
       "      <td>204</td>\n",
       "      <td>358.268169</td>\n",
       "    </tr>\n",
       "    <tr>\n",
       "      <th>3</th>\n",
       "      <td>205</td>\n",
       "      <td>359.520334</td>\n",
       "    </tr>\n",
       "    <tr>\n",
       "      <th>4</th>\n",
       "      <td>206</td>\n",
       "      <td>363.662110</td>\n",
       "    </tr>\n",
       "  </tbody>\n",
       "</table>\n",
       "</div>"
      ],
      "text/plain": [
       "    id         MRR\n",
       "0  202  358.460809\n",
       "1  203  359.038732\n",
       "2  204  358.268169\n",
       "3  205  359.520334\n",
       "4  206  363.662110"
      ]
     },
     "execution_count": 8,
     "metadata": {},
     "output_type": "execute_result"
    }
   ],
   "source": [
    "predictions.head()"
   ]
  },
  {
   "cell_type": "code",
   "execution_count": 9,
   "id": "4b75d6ae",
   "metadata": {},
   "outputs": [],
   "source": [
    "predictions.to_csv(\"./mrr_predictions.csv\")"
   ]
  },
  {
   "cell_type": "markdown",
   "id": "a3c4a3f5",
   "metadata": {},
   "source": [
    "## Rest of the doc contains my analysis (Ignore)"
   ]
  },
  {
   "cell_type": "code",
   "execution_count": 1,
   "id": "a735927c",
   "metadata": {},
   "outputs": [],
   "source": [
    "import pandas as pd\n",
    "import numpy as np\n",
    "import matplotlib.pyplot as plt\n",
    "# from util import transform_data, cat_to_num_plot\n",
    "import util\n",
    "from sklearn.preprocessing import StandardScaler\n",
    "from sklearn.cluster import KMeans\n",
    "from sklearn.decomposition import PCA"
   ]
  },
  {
   "cell_type": "code",
   "execution_count": 4,
   "id": "2d34ab58",
   "metadata": {},
   "outputs": [],
   "source": [
    "# Read the files\n",
    "# file paths\n",
    "customers_file = \"./customers (4).csv\"\n",
    "non_customers_file = \"./noncustomers (4).csv\"\n",
    "activity_file = \"./usage_actions (4).csv\""
   ]
  },
  {
   "cell_type": "code",
   "execution_count": 5,
   "id": "1a1513d4",
   "metadata": {},
   "outputs": [],
   "source": [
    "# Read individual files\n",
    "customers_df = pd.read_csv(customers_file)\n",
    "\n",
    "# Read the combined activity file. Check STEP 1 Notebook\n",
    "all_activity_df = util.transform_data(customers_file,non_customers_file,activity_file)"
   ]
  },
  {
   "cell_type": "markdown",
   "id": "91999beb",
   "metadata": {},
   "source": [
    "## Check if MRR and EMPLOYEE_RANGE are related"
   ]
  },
  {
   "cell_type": "code",
   "execution_count": 7,
   "id": "eef97f4d",
   "metadata": {},
   "outputs": [],
   "source": [
    "# Add EMP_MIN and EMP_MAX columns after parsing EMPLOYEE_RANGE\n",
    "EMP_MIN = []\n",
    "EMP_MAX = []\n",
    "for index, row in customers_df.iterrows():\n",
    "    if row['EMPLOYEE_RANGE'] and (' to ' in str(row['EMPLOYEE_RANGE'])):\n",
    "        x, y = row['EMPLOYEE_RANGE'].split(' to ')\n",
    "        EMP_MIN.append(int(x))\n",
    "        EMP_MAX.append(int(y))\n",
    "    else:\n",
    "        try:\n",
    "            x = int(row['EMPLOYEE_RANGE'])\n",
    "            EMP_MIN.append(x)\n",
    "            EMP_MAX.append(x)\n",
    "        except:\n",
    "            EMP_MIN.append(None)\n",
    "            EMP_MAX.append(None)\n",
    "customers_df['EMP_MIN'] = EMP_MIN\n",
    "customers_df['EMP_MAX'] = EMP_MAX\n",
    "\n",
    "# Add EMP_AVG\n",
    "customers_df['EMP_AVG'] = list(\n",
    "    (customers_df['EMP_MIN'] + customers_df['EMP_MAX'])/2)\n"
   ]
  },
  {
   "cell_type": "code",
   "execution_count": 8,
   "id": "f85681ef",
   "metadata": {},
   "outputs": [
    {
     "data": {
      "text/plain": [
       "<AxesSubplot: xlabel='MRR', ylabel='EMP_AVG'>"
      ]
     },
     "execution_count": 8,
     "metadata": {},
     "output_type": "execute_result"
    },
    {
     "data": {
      "image/png": "[encoded data removed]",
      "text/plain": [
       "<Figure size 640x480 with 1 Axes>"
      ]
     },
     "metadata": {},
     "output_type": "display_data"
    }
   ],
   "source": [
    "customers_df.plot.scatter('MRR', 'EMP_AVG')"
   ]
  },
  {
   "cell_type": "code",
   "execution_count": 9,
   "id": "76c6769c",
   "metadata": {},
   "outputs": [
    {
     "data": {
      "text/plain": [
       "<AxesSubplot: xlabel='MRR', ylabel='EMP_MIN'>"
      ]
     },
     "execution_count": 9,
     "metadata": {},
     "output_type": "execute_result"
    },
    {
     "data": {
      "image/png": "[encoded data removed]",
      "text/plain": [
       "<Figure size 640x480 with 1 Axes>"
      ]
     },
     "metadata": {},
     "output_type": "display_data"
    }
   ],
   "source": [
    "customers_df.plot.scatter('MRR', 'EMP_MIN')"
   ]
  },
  {
   "cell_type": "code",
   "execution_count": 10,
   "id": "a3637051",
   "metadata": {},
   "outputs": [
    {
     "data": {
      "text/plain": [
       "<AxesSubplot: xlabel='MRR', ylabel='EMP_MAX'>"
      ]
     },
     "execution_count": 10,
     "metadata": {},
     "output_type": "execute_result"
    },
    {
     "data": {
      "image/png": "[encoded data removed]",
      "text/plain": [
       "<Figure size 640x480 with 1 Axes>"
      ]
     },
     "metadata": {},
     "output_type": "display_data"
    }
   ],
   "source": [
    "customers_df.plot.scatter('MRR', 'EMP_MAX')"
   ]
  },
  {
   "cell_type": "code",
   "execution_count": 11,
   "id": "d8b6b99f",
   "metadata": {},
   "outputs": [
    {
     "data": {
      "text/plain": [
       "<AxesSubplot: xlabel='MRR', ylabel='LOG_ALEXA'>"
      ]
     },
     "execution_count": 11,
     "metadata": {},
     "output_type": "execute_result"
    },
    {
     "data": {
      "image/png": "[encoded data removed]",
      "text/plain": [
       "<Figure size 640x480 with 1 Axes>"
      ]
     },
     "metadata": {},
     "output_type": "display_data"
    }
   ],
   "source": [
    "customers_df['LOG_ALEXA'] = np.log(customers_df['ALEXA_RANK'])\n",
    "\n",
    "\n",
    "customers_df.plot.scatter('MRR', 'LOG_ALEXA')\n"
   ]
  },
  {
   "cell_type": "markdown",
   "id": "e28840a1",
   "metadata": {},
   "source": [
    "### Inference\n",
    "We can discard EMPLOYEE_RANGE and ALEXARANK as they are NOT correlated to MRR"
   ]
  },
  {
   "cell_type": "markdown",
   "id": "bd6be09b",
   "metadata": {},
   "source": [
    "### Developing the model"
   ]
  },
  {
   "cell_type": "code",
   "execution_count": 10,
   "id": "aae437e2",
   "metadata": {},
   "outputs": [],
   "source": [
    "# We will fit a regression model using the following columns, to predict MRR\n",
    "prediction_columns = ['ACTIONS_CRM_CONTACTS', 'ACTIONS_CRM_COMPANIES', 'ACTIONS_CRM_DEALS', 'ACTIONS_EMAIL', \\\n",
    "                      'USERS_CRM_COMPANIES', 'USERS_CRM_CONTACTS', 'USERS_CRM_DEALS', 'USERS_EMAIL', 'LASTUSED']\n",
    "\n",
    "\n",
    "\n",
    "# We know that these columns are highly correlated to each other. So we will use PCA with 3 components\n",
    "# to reduce the dimensions"
   ]
  },
  {
   "cell_type": "code",
   "execution_count": 11,
   "id": "7fd0a58b",
   "metadata": {},
   "outputs": [],
   "source": [
    "# First select around 20 customers randomly (only PREMIUM Customers) and keep them aside.\n",
    "# They will be used for testing. \n",
    "# The remaining customers will be used for training\n",
    "import random\n",
    "\n",
    "# Randomly select some IDs and keep them aside\n"
   ]
  },
  {
   "cell_type": "code",
   "execution_count": 12,
   "id": "71a1309a",
   "metadata": {},
   "outputs": [],
   "source": [
    "def get_test_train_data(all_activity_df, prediction_columns):\n",
    "    random.seed(42)\n",
    "    \n",
    "    test_ids = random.sample((list(set(customers_df[\"id\"]))), 20)\n",
    "    \n",
    "    train_ids = set(customers_df[\"id\"]) - set(test_ids)    \n",
    "    \n",
    "    select_cols = [\"id\"] + prediction_columns + [\"MRR\"]\n",
    "    print(select_cols)\n",
    "    \n",
    "    test_df = all_activity_df[(all_activity_df[\"id\"].isin(test_ids)) & \n",
    "                          (all_activity_df[\"MEMBERSHIPTYPE\"] == 'BEFORE-PREMIUM')].loc[:, select_cols].drop_duplicates()\n",
    "    train_df = all_activity_df[(all_activity_df[\"id\"].isin(train_ids)) &\n",
    "                           (all_activity_df[\"MEMBERSHIPTYPE\"] == 'BEFORE-PREMIUM')].loc[:, select_cols].drop_duplicates()\n",
    "    \n",
    "    return test_df, train_df"
   ]
  },
  {
   "cell_type": "code",
   "execution_count": 13,
   "id": "314f2e5e",
   "metadata": {},
   "outputs": [
    {
     "name": "stdout",
     "output_type": "stream",
     "text": [
      "['id', 'ACTIONS_CRM_CONTACTS', 'ACTIONS_CRM_COMPANIES', 'ACTIONS_CRM_DEALS', 'ACTIONS_EMAIL', 'USERS_CRM_COMPANIES', 'USERS_CRM_CONTACTS', 'USERS_CRM_DEALS', 'USERS_EMAIL', 'LASTUSED', 'MRR']\n"
     ]
    }
   ],
   "source": [
    "test_df, train_df = get_test_train_data(all_activity_df, prediction_columns)"
   ]
  },
  {
   "cell_type": "code",
   "execution_count": 14,
   "id": "24b5d04e",
   "metadata": {},
   "outputs": [
    {
     "data": {
      "text/plain": [
       "(257, 11)"
      ]
     },
     "execution_count": 14,
     "metadata": {},
     "output_type": "execute_result"
    }
   ],
   "source": [
    "test_df.shape"
   ]
  },
  {
   "cell_type": "code",
   "execution_count": 15,
   "id": "f5941b39",
   "metadata": {},
   "outputs": [
    {
     "data": {
      "text/plain": [
       "(2484, 11)"
      ]
     },
     "execution_count": 15,
     "metadata": {},
     "output_type": "execute_result"
    }
   ],
   "source": [
    "train_df.shape"
   ]
  },
  {
   "cell_type": "code",
   "execution_count": 16,
   "id": "b588792d",
   "metadata": {},
   "outputs": [
    {
     "data": {
      "text/plain": [
       "<AxesSubplot: xlabel='MRR', ylabel='ACTIONS_CRM_CONTACTS'>"
      ]
     },
     "execution_count": 16,
     "metadata": {},
     "output_type": "execute_result"
    },
    {
     "data": {
      "image/png": "[encoded data removed]",
      "text/plain": [
       "<Figure size 640x480 with 1 Axes>"
      ]
     },
     "metadata": {},
     "output_type": "display_data"
    }
   ],
   "source": [
    "train_df.plot.scatter('MRR', 'ACTIONS_CRM_CONTACTS')"
   ]
  },
  {
   "cell_type": "code",
   "execution_count": 17,
   "id": "b1db0c72",
   "metadata": {},
   "outputs": [
    {
     "data": {
      "text/plain": [
       "<AxesSubplot: xlabel='MRR', ylabel='LASTUSED'>"
      ]
     },
     "execution_count": 17,
     "metadata": {},
     "output_type": "execute_result"
    },
    {
     "data": {
      "image/png": "[encoded data removed]",
      "text/plain": [
       "<Figure size 640x480 with 1 Axes>"
      ]
     },
     "metadata": {},
     "output_type": "display_data"
    }
   ],
   "source": [
    "train_df.plot.scatter('MRR', 'LASTUSED')"
   ]
  },
  {
   "cell_type": "code",
   "execution_count": 18,
   "id": "8ed9f61e",
   "metadata": {},
   "outputs": [],
   "source": [
    "# There are customers who are paying negative premium\n",
    "# There are some customers who did not use the system for a long time, but are still paying the premium"
   ]
  },
  {
   "cell_type": "code",
   "execution_count": 19,
   "id": "31b383b8",
   "metadata": {},
   "outputs": [],
   "source": [
    "# Let us use the CV technique\n",
    "#from sklearn.model_selection import train_test_split\n",
    "#X_train, X_validation, y_train, y_validation = train_test_split(\n",
    "#train_df.drop(['id', 'MRR'], axis=1), train_df['MRR'], test_size=0.2, random_state=42)"
   ]
  },
  {
   "cell_type": "code",
   "execution_count": 20,
   "id": "1f815c45",
   "metadata": {},
   "outputs": [],
   "source": [
    "X_train = train_df.drop(['id', 'MRR'], axis=1)\n",
    "X_test = test_df.drop(['id', 'MRR'], axis=1)\n",
    "y_train = train_df['MRR']\n",
    "y_test = test_df['MRR']"
   ]
  },
  {
   "cell_type": "code",
   "execution_count": 21,
   "id": "8fa76bcf",
   "metadata": {},
   "outputs": [],
   "source": [
    "#X_validation.shape"
   ]
  },
  {
   "cell_type": "code",
   "execution_count": 22,
   "id": "110fbfa2",
   "metadata": {},
   "outputs": [
    {
     "name": "stdout",
     "output_type": "stream",
     "text": [
      "[9.77924015e-01 1.48646864e-02 6.18309617e-03 7.93203993e-04\n",
      " 1.97107573e-04 2.41620509e-05 8.77390472e-06 4.22356359e-06\n",
      " 7.31628545e-07]\n"
     ]
    }
   ],
   "source": [
    "pca = PCA(random_state=42)\n",
    "pca.fit(X_train)\n",
    "print(pca.explained_variance_ratio_)"
   ]
  },
  {
   "cell_type": "code",
   "execution_count": 23,
   "id": "aeacc1cf",
   "metadata": {},
   "outputs": [
    {
     "data": {
      "text/html": [
       "<div>\n",
       "<style scoped>\n",
       "    .dataframe tbody tr th:only-of-type {\n",
       "        vertical-align: middle;\n",
       "    }\n",
       "\n",
       "    .dataframe tbody tr th {\n",
       "        vertical-align: top;\n",
       "    }\n",
       "\n",
       "    .dataframe thead th {\n",
       "        text-align: right;\n",
       "    }\n",
       "</style>\n",
       "<table border=\"1\" class=\"dataframe\">\n",
       "  <thead>\n",
       "    <tr style=\"text-align: right;\">\n",
       "      <th></th>\n",
       "      <th>Component</th>\n",
       "      <th>Cumulative Explained Variance</th>\n",
       "    </tr>\n",
       "  </thead>\n",
       "  <tbody>\n",
       "    <tr>\n",
       "      <th>0</th>\n",
       "      <td>1</td>\n",
       "      <td>97.792401</td>\n",
       "    </tr>\n",
       "    <tr>\n",
       "      <th>1</th>\n",
       "      <td>2</td>\n",
       "      <td>99.278870</td>\n",
       "    </tr>\n",
       "    <tr>\n",
       "      <th>2</th>\n",
       "      <td>3</td>\n",
       "      <td>99.897180</td>\n",
       "    </tr>\n",
       "    <tr>\n",
       "      <th>3</th>\n",
       "      <td>4</td>\n",
       "      <td>99.976500</td>\n",
       "    </tr>\n",
       "    <tr>\n",
       "      <th>4</th>\n",
       "      <td>5</td>\n",
       "      <td>99.996211</td>\n",
       "    </tr>\n",
       "    <tr>\n",
       "      <th>5</th>\n",
       "      <td>6</td>\n",
       "      <td>99.998627</td>\n",
       "    </tr>\n",
       "    <tr>\n",
       "      <th>6</th>\n",
       "      <td>7</td>\n",
       "      <td>99.999504</td>\n",
       "    </tr>\n",
       "    <tr>\n",
       "      <th>7</th>\n",
       "      <td>8</td>\n",
       "      <td>99.999927</td>\n",
       "    </tr>\n",
       "    <tr>\n",
       "      <th>8</th>\n",
       "      <td>9</td>\n",
       "      <td>100.000000</td>\n",
       "    </tr>\n",
       "  </tbody>\n",
       "</table>\n",
       "</div>"
      ],
      "text/plain": [
       "   Component  Cumulative Explained Variance\n",
       "0          1                      97.792401\n",
       "1          2                      99.278870\n",
       "2          3                      99.897180\n",
       "3          4                      99.976500\n",
       "4          5                      99.996211\n",
       "5          6                      99.998627\n",
       "6          7                      99.999504\n",
       "7          8                      99.999927\n",
       "8          9                     100.000000"
      ]
     },
     "execution_count": 23,
     "metadata": {},
     "output_type": "execute_result"
    },
    {
     "data": {
      "image/png": "[encoded data removed]",
      "text/plain": [
       "<Figure size 640x480 with 1 Axes>"
      ]
     },
     "metadata": {},
     "output_type": "display_data"
    }
   ],
   "source": [
    "explained_variance_df = pd.DataFrame(zip(range(1, len(pca.explained_variance_ratio_)+1), np.array(pca.explained_variance_ratio_*100).cumsum()),\n",
    "            columns=[\"Component\", \"Cumulative Explained Variance\"])\n",
    "\n",
    "explained_variance_df.plot.line(x = \"Component\", y= \"Cumulative Explained Variance\")\n",
    "explained_variance_df"
   ]
  },
  {
   "cell_type": "code",
   "execution_count": 24,
   "id": "50bb9d14",
   "metadata": {},
   "outputs": [],
   "source": [
    "# With just 2 components 99% of the variance is explained"
   ]
  },
  {
   "cell_type": "code",
   "execution_count": 25,
   "id": "b9fe6e42",
   "metadata": {},
   "outputs": [
    {
     "data": {
      "text/html": [
       "<div>\n",
       "<style scoped>\n",
       "    .dataframe tbody tr th:only-of-type {\n",
       "        vertical-align: middle;\n",
       "    }\n",
       "\n",
       "    .dataframe tbody tr th {\n",
       "        vertical-align: top;\n",
       "    }\n",
       "\n",
       "    .dataframe thead th {\n",
       "        text-align: right;\n",
       "    }\n",
       "</style>\n",
       "<table border=\"1\" class=\"dataframe\">\n",
       "  <thead>\n",
       "    <tr style=\"text-align: right;\">\n",
       "      <th></th>\n",
       "      <th>Dim_1</th>\n",
       "      <th>Dim_2</th>\n",
       "    </tr>\n",
       "  </thead>\n",
       "  <tbody>\n",
       "    <tr>\n",
       "      <th>0</th>\n",
       "      <td>-139.030051</td>\n",
       "      <td>-35.576076</td>\n",
       "    </tr>\n",
       "    <tr>\n",
       "      <th>1</th>\n",
       "      <td>-200.073977</td>\n",
       "      <td>-35.199118</td>\n",
       "    </tr>\n",
       "    <tr>\n",
       "      <th>2</th>\n",
       "      <td>-179.003805</td>\n",
       "      <td>-34.741749</td>\n",
       "    </tr>\n",
       "    <tr>\n",
       "      <th>3</th>\n",
       "      <td>-91.914581</td>\n",
       "      <td>-32.691885</td>\n",
       "    </tr>\n",
       "    <tr>\n",
       "      <th>4</th>\n",
       "      <td>-85.905618</td>\n",
       "      <td>-31.128732</td>\n",
       "    </tr>\n",
       "  </tbody>\n",
       "</table>\n",
       "</div>"
      ],
      "text/plain": [
       "        Dim_1      Dim_2\n",
       "0 -139.030051 -35.576076\n",
       "1 -200.073977 -35.199118\n",
       "2 -179.003805 -34.741749\n",
       "3  -91.914581 -32.691885\n",
       "4  -85.905618 -31.128732"
      ]
     },
     "execution_count": 25,
     "metadata": {},
     "output_type": "execute_result"
    }
   ],
   "source": [
    "pca = PCA(n_components=2,copy=True,random_state=42)\n",
    "pca.fit(X_train)\n",
    "\n",
    "# Transform the data using the fitted PCA\n",
    "X_train_reduced = pca.transform(X_train)\n",
    "X_train_reduced = pd.DataFrame(X_train_reduced, columns=[\"Dim_1\", \"Dim_2\"])\n",
    "X_train_reduced.head()"
   ]
  },
  {
   "cell_type": "code",
   "execution_count": 26,
   "id": "f5792626",
   "metadata": {},
   "outputs": [],
   "source": [
    "from sklearn.pipeline import Pipeline\n",
    "from sklearn.preprocessing import StandardScaler\n",
    "from sklearn.pipeline import Pipeline\n",
    "from sklearn.impute import SimpleImputer\n",
    "from sklearn.preprocessing import StandardScaler\n"
   ]
  },
  {
   "cell_type": "code",
   "execution_count": 27,
   "id": "869ceaf1",
   "metadata": {},
   "outputs": [],
   "source": [
    "\n",
    "\n",
    "transformation_pipeline = Pipeline([\n",
    "    ('pca', PCA(n_components=2,copy=True,random_state=42)),\n",
    "    ('imputer', SimpleImputer(strategy=\"median\")),\n",
    "    ('std-scaler', StandardScaler())\n",
    "])"
   ]
  },
  {
   "cell_type": "code",
   "execution_count": 28,
   "id": "1ea53929",
   "metadata": {},
   "outputs": [
    {
     "data": {
      "text/html": [
       "<style>#sk-container-id-1 {color: black;background-color: white;}#sk-container-id-1 pre{padding: 0;}#sk-container-id-1 div.sk-toggleable {background-color: white;}#sk-container-id-1 label.sk-toggleable__label {cursor: pointer;display: block;width: 100%;margin-bottom: 0;padding: 0.3em;box-sizing: border-box;text-align: center;}#sk-container-id-1 label.sk-toggleable__label-arrow:before {content: \"▸\";float: left;margin-right: 0.25em;color: #696969;}#sk-container-id-1 label.sk-toggleable__label-arrow:hover:before {color: black;}#sk-container-id-1 div.sk-estimator:hover label.sk-toggleable__label-arrow:before {color: black;}#sk-container-id-1 div.sk-toggleable__content {max-height: 0;max-width: 0;overflow: hidden;text-align: left;background-color: #f0f8ff;}#sk-container-id-1 div.sk-toggleable__content pre {margin: 0.2em;color: black;border-radius: 0.25em;background-color: #f0f8ff;}#sk-container-id-1 input.sk-toggleable__control:checked~div.sk-toggleable__content {max-height: 200px;max-width: 100%;overflow: auto;}#sk-container-id-1 input.sk-toggleable__control:checked~label.sk-toggleable__label-arrow:before {content: \"▾\";}#sk-container-id-1 div.sk-estimator input.sk-toggleable__control:checked~label.sk-toggleable__label {background-color: #d4ebff;}#sk-container-id-1 div.sk-label input.sk-toggleable__control:checked~label.sk-toggleable__label {background-color: #d4ebff;}#sk-container-id-1 input.sk-hidden--visually {border: 0;clip: rect(1px 1px 1px 1px);clip: rect(1px, 1px, 1px, 1px);height: 1px;margin: -1px;overflow: hidden;padding: 0;position: absolute;width: 1px;}#sk-container-id-1 div.sk-estimator {font-family: monospace;background-color: #f0f8ff;border: 1px dotted black;border-radius: 0.25em;box-sizing: border-box;margin-bottom: 0.5em;}#sk-container-id-1 div.sk-estimator:hover {background-color: #d4ebff;}#sk-container-id-1 div.sk-parallel-item::after {content: \"\";width: 100%;border-bottom: 1px solid gray;flex-grow: 1;}#sk-container-id-1 div.sk-label:hover label.sk-toggleable__label {background-color: #d4ebff;}#sk-container-id-1 div.sk-serial::before {content: \"\";position: absolute;border-left: 1px solid gray;box-sizing: border-box;top: 0;bottom: 0;left: 50%;z-index: 0;}#sk-container-id-1 div.sk-serial {display: flex;flex-direction: column;align-items: center;background-color: white;padding-right: 0.2em;padding-left: 0.2em;position: relative;}#sk-container-id-1 div.sk-item {position: relative;z-index: 1;}#sk-container-id-1 div.sk-parallel {display: flex;align-items: stretch;justify-content: center;background-color: white;position: relative;}#sk-container-id-1 div.sk-item::before, #sk-container-id-1 div.sk-parallel-item::before {content: \"\";position: absolute;border-left: 1px solid gray;box-sizing: border-box;top: 0;bottom: 0;left: 50%;z-index: -1;}#sk-container-id-1 div.sk-parallel-item {display: flex;flex-direction: column;z-index: 1;position: relative;background-color: white;}#sk-container-id-1 div.sk-parallel-item:first-child::after {align-self: flex-end;width: 50%;}#sk-container-id-1 div.sk-parallel-item:last-child::after {align-self: flex-start;width: 50%;}#sk-container-id-1 div.sk-parallel-item:only-child::after {width: 0;}#sk-container-id-1 div.sk-dashed-wrapped {border: 1px dashed gray;margin: 0 0.4em 0.5em 0.4em;box-sizing: border-box;padding-bottom: 0.4em;background-color: white;}#sk-container-id-1 div.sk-label label {font-family: monospace;font-weight: bold;display: inline-block;line-height: 1.2em;}#sk-container-id-1 div.sk-label-container {text-align: center;}#sk-container-id-1 div.sk-container {/* jupyter's `normalize.less` sets `[hidden] { display: none; }` but bootstrap.min.css set `[hidden] { display: none !important; }` so we also need the `!important` here to be able to override the default hidden behavior on the sphinx rendered scikit-learn.org. See: https://github.com/scikit-learn/scikit-learn/issues/21755 */display: inline-block !important;position: relative;}#sk-container-id-1 div.sk-text-repr-fallback {display: none;}</style><div id=\"sk-container-id-1\" class=\"sk-top-container\"><div class=\"sk-text-repr-fallback\"><pre>Pipeline(steps=[(&#x27;pca&#x27;, PCA(n_components=2, random_state=42)),\n",
       "                (&#x27;imputer&#x27;, SimpleImputer(strategy=&#x27;median&#x27;)),\n",
       "                (&#x27;std-scaler&#x27;, StandardScaler())])</pre><b>In a Jupyter environment, please rerun this cell to show the HTML representation or trust the notebook. <br />On GitHub, the HTML representation is unable to render, please try loading this page with nbviewer.org.</b></div><div class=\"sk-container\" hidden><div class=\"sk-item sk-dashed-wrapped\"><div class=\"sk-label-container\"><div class=\"sk-label sk-toggleable\"><input class=\"sk-toggleable__control sk-hidden--visually\" id=\"sk-estimator-id-1\" type=\"checkbox\" ><label for=\"sk-estimator-id-1\" class=\"sk-toggleable__label sk-toggleable__label-arrow\">Pipeline</label><div class=\"sk-toggleable__content\"><pre>Pipeline(steps=[(&#x27;pca&#x27;, PCA(n_components=2, random_state=42)),\n",
       "                (&#x27;imputer&#x27;, SimpleImputer(strategy=&#x27;median&#x27;)),\n",
       "                (&#x27;std-scaler&#x27;, StandardScaler())])</pre></div></div></div><div class=\"sk-serial\"><div class=\"sk-item\"><div class=\"sk-estimator sk-toggleable\"><input class=\"sk-toggleable__control sk-hidden--visually\" id=\"sk-estimator-id-2\" type=\"checkbox\" ><label for=\"sk-estimator-id-2\" class=\"sk-toggleable__label sk-toggleable__label-arrow\">PCA</label><div class=\"sk-toggleable__content\"><pre>PCA(n_components=2, random_state=42)</pre></div></div></div><div class=\"sk-item\"><div class=\"sk-estimator sk-toggleable\"><input class=\"sk-toggleable__control sk-hidden--visually\" id=\"sk-estimator-id-3\" type=\"checkbox\" ><label for=\"sk-estimator-id-3\" class=\"sk-toggleable__label sk-toggleable__label-arrow\">SimpleImputer</label><div class=\"sk-toggleable__content\"><pre>SimpleImputer(strategy=&#x27;median&#x27;)</pre></div></div></div><div class=\"sk-item\"><div class=\"sk-estimator sk-toggleable\"><input class=\"sk-toggleable__control sk-hidden--visually\" id=\"sk-estimator-id-4\" type=\"checkbox\" ><label for=\"sk-estimator-id-4\" class=\"sk-toggleable__label sk-toggleable__label-arrow\">StandardScaler</label><div class=\"sk-toggleable__content\"><pre>StandardScaler()</pre></div></div></div></div></div></div></div>"
      ],
      "text/plain": [
       "Pipeline(steps=[('pca', PCA(n_components=2, random_state=42)),\n",
       "                ('imputer', SimpleImputer(strategy='median')),\n",
       "                ('std-scaler', StandardScaler())])"
      ]
     },
     "execution_count": 28,
     "metadata": {},
     "output_type": "execute_result"
    }
   ],
   "source": [
    "transformation_pipeline.fit(X_train)"
   ]
  },
  {
   "cell_type": "code",
   "execution_count": 29,
   "id": "aab81956",
   "metadata": {},
   "outputs": [],
   "source": [
    "X_train_transformed = transformation_pipeline.transform(X_train)"
   ]
  },
  {
   "cell_type": "code",
   "execution_count": 30,
   "id": "c20a4768",
   "metadata": {},
   "outputs": [],
   "source": [
    "from sklearn.model_selection import cross_val_score\n",
    "from sklearn.linear_model import LinearRegression\n",
    "lin_reg = LinearRegression()\n"
   ]
  },
  {
   "cell_type": "code",
   "execution_count": 31,
   "id": "6088a212",
   "metadata": {},
   "outputs": [],
   "source": [
    "scores = cross_val_score(lin_reg, X_train_transformed, y_train,\n",
    "                        scoring=\"neg_mean_squared_error\", cv=10)"
   ]
  },
  {
   "cell_type": "code",
   "execution_count": 32,
   "id": "3cd17399",
   "metadata": {},
   "outputs": [],
   "source": [
    "cv_scores = np.sqrt(-scores)"
   ]
  },
  {
   "cell_type": "code",
   "execution_count": 33,
   "id": "f1874845",
   "metadata": {},
   "outputs": [],
   "source": [
    "def display_scores(scores):\n",
    "    print(\"Scores:\", scores)\n",
    "    print(\"Mean\", scores.mean())\n",
    "    print(\"Std. Dev\", scores.std())\n",
    "    "
   ]
  },
  {
   "cell_type": "code",
   "execution_count": 34,
   "id": "ef702308",
   "metadata": {},
   "outputs": [
    {
     "name": "stdout",
     "output_type": "stream",
     "text": [
      "Scores: [278.61582079 345.31074784 271.18193327 242.93742513 179.42561671\n",
      " 206.56923893 355.21733985 335.90977437 304.14156779 218.15356807]\n",
      "Mean 273.74630327497823\n",
      "Std. Dev 58.33210610979453\n"
     ]
    }
   ],
   "source": [
    "display_scores(cv_scores)"
   ]
  },
  {
   "cell_type": "code",
   "execution_count": 35,
   "id": "8a5ef8c2",
   "metadata": {},
   "outputs": [],
   "source": [
    "X_test_transformed = transformation_pipeline.transform(X_test)"
   ]
  },
  {
   "cell_type": "code",
   "execution_count": 37,
   "id": "02976929",
   "metadata": {},
   "outputs": [],
   "source": [
    "lin_reg = LinearRegression()\n",
    "lin_reg.fit(X_train_transformed, y_train)\n",
    "y_test_predictions = lin_reg.predict(X_test_transformed)"
   ]
  },
  {
   "cell_type": "code",
   "execution_count": 38,
   "id": "c1e5f35e",
   "metadata": {},
   "outputs": [
    {
     "data": {
      "text/plain": [
       "454.4148569652035"
      ]
     },
     "execution_count": 38,
     "metadata": {},
     "output_type": "execute_result"
    }
   ],
   "source": [
    "from sklearn.metrics import mean_squared_error\n",
    "lin_mse = mean_squared_error(y_test_predictions, y_test)\n",
    "lin_rmse = np.sqrt(lin_mse)\n",
    "lin_rmse"
   ]
  },
  {
   "cell_type": "code",
   "execution_count": null,
   "id": "44d2a385",
   "metadata": {},
   "outputs": [],
   "source": []
  },
  {
   "cell_type": "code",
   "execution_count": null,
   "id": "165c5d8a",
   "metadata": {},
   "outputs": [],
   "source": []
  },
  {
   "cell_type": "code",
   "execution_count": 81,
   "id": "4e274d15",
   "metadata": {},
   "outputs": [],
   "source": [
    "from sklearn.tree import DecisionTreeRegressor\n",
    "tree_reg = DecisionTreeRegressor()\n",
    "\n",
    "scores = cross_val_score(tree_reg, X_train_transformed, y_train,\n",
    "                        scoring=\"neg_mean_squared_error\", cv=10)"
   ]
  },
  {
   "cell_type": "code",
   "execution_count": 82,
   "id": "a7f635b2",
   "metadata": {},
   "outputs": [],
   "source": [
    "cv_scores = np.sqrt(-scores)"
   ]
  },
  {
   "cell_type": "code",
   "execution_count": 83,
   "id": "d2ac052a",
   "metadata": {},
   "outputs": [
    {
     "name": "stdout",
     "output_type": "stream",
     "text": [
      "Scores: [344.60992751 397.08401377 345.40347096 356.30222347 282.04628954\n",
      " 326.72653282 418.87982109 397.68116736 362.0653284  255.79486274]\n",
      "Mean 348.65936376554293\n",
      "Std. Dev 48.46266070814393\n"
     ]
    }
   ],
   "source": [
    "display_scores(cv_scores)"
   ]
  },
  {
   "cell_type": "code",
   "execution_count": 84,
   "id": "b233bdad",
   "metadata": {},
   "outputs": [
    {
     "data": {
      "text/html": [
       "<style>#sk-container-id-9 {color: black;background-color: white;}#sk-container-id-9 pre{padding: 0;}#sk-container-id-9 div.sk-toggleable {background-color: white;}#sk-container-id-9 label.sk-toggleable__label {cursor: pointer;display: block;width: 100%;margin-bottom: 0;padding: 0.3em;box-sizing: border-box;text-align: center;}#sk-container-id-9 label.sk-toggleable__label-arrow:before {content: \"▸\";float: left;margin-right: 0.25em;color: #696969;}#sk-container-id-9 label.sk-toggleable__label-arrow:hover:before {color: black;}#sk-container-id-9 div.sk-estimator:hover label.sk-toggleable__label-arrow:before {color: black;}#sk-container-id-9 div.sk-toggleable__content {max-height: 0;max-width: 0;overflow: hidden;text-align: left;background-color: #f0f8ff;}#sk-container-id-9 div.sk-toggleable__content pre {margin: 0.2em;color: black;border-radius: 0.25em;background-color: #f0f8ff;}#sk-container-id-9 input.sk-toggleable__control:checked~div.sk-toggleable__content {max-height: 200px;max-width: 100%;overflow: auto;}#sk-container-id-9 input.sk-toggleable__control:checked~label.sk-toggleable__label-arrow:before {content: \"▾\";}#sk-container-id-9 div.sk-estimator input.sk-toggleable__control:checked~label.sk-toggleable__label {background-color: #d4ebff;}#sk-container-id-9 div.sk-label input.sk-toggleable__control:checked~label.sk-toggleable__label {background-color: #d4ebff;}#sk-container-id-9 input.sk-hidden--visually {border: 0;clip: rect(1px 1px 1px 1px);clip: rect(1px, 1px, 1px, 1px);height: 1px;margin: -1px;overflow: hidden;padding: 0;position: absolute;width: 1px;}#sk-container-id-9 div.sk-estimator {font-family: monospace;background-color: #f0f8ff;border: 1px dotted black;border-radius: 0.25em;box-sizing: border-box;margin-bottom: 0.5em;}#sk-container-id-9 div.sk-estimator:hover {background-color: #d4ebff;}#sk-container-id-9 div.sk-parallel-item::after {content: \"\";width: 100%;border-bottom: 1px solid gray;flex-grow: 1;}#sk-container-id-9 div.sk-label:hover label.sk-toggleable__label {background-color: #d4ebff;}#sk-container-id-9 div.sk-serial::before {content: \"\";position: absolute;border-left: 1px solid gray;box-sizing: border-box;top: 0;bottom: 0;left: 50%;z-index: 0;}#sk-container-id-9 div.sk-serial {display: flex;flex-direction: column;align-items: center;background-color: white;padding-right: 0.2em;padding-left: 0.2em;position: relative;}#sk-container-id-9 div.sk-item {position: relative;z-index: 1;}#sk-container-id-9 div.sk-parallel {display: flex;align-items: stretch;justify-content: center;background-color: white;position: relative;}#sk-container-id-9 div.sk-item::before, #sk-container-id-9 div.sk-parallel-item::before {content: \"\";position: absolute;border-left: 1px solid gray;box-sizing: border-box;top: 0;bottom: 0;left: 50%;z-index: -1;}#sk-container-id-9 div.sk-parallel-item {display: flex;flex-direction: column;z-index: 1;position: relative;background-color: white;}#sk-container-id-9 div.sk-parallel-item:first-child::after {align-self: flex-end;width: 50%;}#sk-container-id-9 div.sk-parallel-item:last-child::after {align-self: flex-start;width: 50%;}#sk-container-id-9 div.sk-parallel-item:only-child::after {width: 0;}#sk-container-id-9 div.sk-dashed-wrapped {border: 1px dashed gray;margin: 0 0.4em 0.5em 0.4em;box-sizing: border-box;padding-bottom: 0.4em;background-color: white;}#sk-container-id-9 div.sk-label label {font-family: monospace;font-weight: bold;display: inline-block;line-height: 1.2em;}#sk-container-id-9 div.sk-label-container {text-align: center;}#sk-container-id-9 div.sk-container {/* jupyter's `normalize.less` sets `[hidden] { display: none; }` but bootstrap.min.css set `[hidden] { display: none !important; }` so we also need the `!important` here to be able to override the default hidden behavior on the sphinx rendered scikit-learn.org. See: https://github.com/scikit-learn/scikit-learn/issues/21755 */display: inline-block !important;position: relative;}#sk-container-id-9 div.sk-text-repr-fallback {display: none;}</style><div id=\"sk-container-id-9\" class=\"sk-top-container\"><div class=\"sk-text-repr-fallback\"><pre>LinearRegression()</pre><b>In a Jupyter environment, please rerun this cell to show the HTML representation or trust the notebook. <br />On GitHub, the HTML representation is unable to render, please try loading this page with nbviewer.org.</b></div><div class=\"sk-container\" hidden><div class=\"sk-item\"><div class=\"sk-estimator sk-toggleable\"><input class=\"sk-toggleable__control sk-hidden--visually\" id=\"sk-estimator-id-25\" type=\"checkbox\" checked><label for=\"sk-estimator-id-25\" class=\"sk-toggleable__label sk-toggleable__label-arrow\">LinearRegression</label><div class=\"sk-toggleable__content\"><pre>LinearRegression()</pre></div></div></div></div></div>"
      ],
      "text/plain": [
       "LinearRegression()"
      ]
     },
     "execution_count": 84,
     "metadata": {},
     "output_type": "execute_result"
    }
   ],
   "source": [
    "lin_reg.fit(X_train_transformed, y_train)"
   ]
  },
  {
   "cell_type": "code",
   "execution_count": 85,
   "id": "ea81fb9e",
   "metadata": {},
   "outputs": [],
   "source": [
    "X_test_transformed = transformation_pipeline.transform(X_test)"
   ]
  },
  {
   "cell_type": "code",
   "execution_count": 86,
   "id": "e4bd362d",
   "metadata": {},
   "outputs": [],
   "source": [
    "y_test_predicted = lin_reg.predict(X_test_transformed)"
   ]
  },
  {
   "cell_type": "code",
   "execution_count": 94,
   "id": "e269bb6f",
   "metadata": {},
   "outputs": [
    {
     "data": {
      "text/plain": [
       "454.7549092959077"
      ]
     },
     "execution_count": 94,
     "metadata": {},
     "output_type": "execute_result"
    }
   ],
   "source": [
    "from sklearn.metrics import mean_squared_error\n",
    "lin_mse = mean_squared_error(y_test_predicted, y_test)\n",
    "lin_rmse = np.sqrt(lin_mse)\n",
    "lin_rmse"
   ]
  },
  {
   "cell_type": "code",
   "execution_count": 95,
   "id": "d37068af",
   "metadata": {},
   "outputs": [
    {
     "data": {
      "text/html": [
       "<style>#sk-container-id-11 {color: black;background-color: white;}#sk-container-id-11 pre{padding: 0;}#sk-container-id-11 div.sk-toggleable {background-color: white;}#sk-container-id-11 label.sk-toggleable__label {cursor: pointer;display: block;width: 100%;margin-bottom: 0;padding: 0.3em;box-sizing: border-box;text-align: center;}#sk-container-id-11 label.sk-toggleable__label-arrow:before {content: \"▸\";float: left;margin-right: 0.25em;color: #696969;}#sk-container-id-11 label.sk-toggleable__label-arrow:hover:before {color: black;}#sk-container-id-11 div.sk-estimator:hover label.sk-toggleable__label-arrow:before {color: black;}#sk-container-id-11 div.sk-toggleable__content {max-height: 0;max-width: 0;overflow: hidden;text-align: left;background-color: #f0f8ff;}#sk-container-id-11 div.sk-toggleable__content pre {margin: 0.2em;color: black;border-radius: 0.25em;background-color: #f0f8ff;}#sk-container-id-11 input.sk-toggleable__control:checked~div.sk-toggleable__content {max-height: 200px;max-width: 100%;overflow: auto;}#sk-container-id-11 input.sk-toggleable__control:checked~label.sk-toggleable__label-arrow:before {content: \"▾\";}#sk-container-id-11 div.sk-estimator input.sk-toggleable__control:checked~label.sk-toggleable__label {background-color: #d4ebff;}#sk-container-id-11 div.sk-label input.sk-toggleable__control:checked~label.sk-toggleable__label {background-color: #d4ebff;}#sk-container-id-11 input.sk-hidden--visually {border: 0;clip: rect(1px 1px 1px 1px);clip: rect(1px, 1px, 1px, 1px);height: 1px;margin: -1px;overflow: hidden;padding: 0;position: absolute;width: 1px;}#sk-container-id-11 div.sk-estimator {font-family: monospace;background-color: #f0f8ff;border: 1px dotted black;border-radius: 0.25em;box-sizing: border-box;margin-bottom: 0.5em;}#sk-container-id-11 div.sk-estimator:hover {background-color: #d4ebff;}#sk-container-id-11 div.sk-parallel-item::after {content: \"\";width: 100%;border-bottom: 1px solid gray;flex-grow: 1;}#sk-container-id-11 div.sk-label:hover label.sk-toggleable__label {background-color: #d4ebff;}#sk-container-id-11 div.sk-serial::before {content: \"\";position: absolute;border-left: 1px solid gray;box-sizing: border-box;top: 0;bottom: 0;left: 50%;z-index: 0;}#sk-container-id-11 div.sk-serial {display: flex;flex-direction: column;align-items: center;background-color: white;padding-right: 0.2em;padding-left: 0.2em;position: relative;}#sk-container-id-11 div.sk-item {position: relative;z-index: 1;}#sk-container-id-11 div.sk-parallel {display: flex;align-items: stretch;justify-content: center;background-color: white;position: relative;}#sk-container-id-11 div.sk-item::before, #sk-container-id-11 div.sk-parallel-item::before {content: \"\";position: absolute;border-left: 1px solid gray;box-sizing: border-box;top: 0;bottom: 0;left: 50%;z-index: -1;}#sk-container-id-11 div.sk-parallel-item {display: flex;flex-direction: column;z-index: 1;position: relative;background-color: white;}#sk-container-id-11 div.sk-parallel-item:first-child::after {align-self: flex-end;width: 50%;}#sk-container-id-11 div.sk-parallel-item:last-child::after {align-self: flex-start;width: 50%;}#sk-container-id-11 div.sk-parallel-item:only-child::after {width: 0;}#sk-container-id-11 div.sk-dashed-wrapped {border: 1px dashed gray;margin: 0 0.4em 0.5em 0.4em;box-sizing: border-box;padding-bottom: 0.4em;background-color: white;}#sk-container-id-11 div.sk-label label {font-family: monospace;font-weight: bold;display: inline-block;line-height: 1.2em;}#sk-container-id-11 div.sk-label-container {text-align: center;}#sk-container-id-11 div.sk-container {/* jupyter's `normalize.less` sets `[hidden] { display: none; }` but bootstrap.min.css set `[hidden] { display: none !important; }` so we also need the `!important` here to be able to override the default hidden behavior on the sphinx rendered scikit-learn.org. See: https://github.com/scikit-learn/scikit-learn/issues/21755 */display: inline-block !important;position: relative;}#sk-container-id-11 div.sk-text-repr-fallback {display: none;}</style><div id=\"sk-container-id-11\" class=\"sk-top-container\"><div class=\"sk-text-repr-fallback\"><pre>ElasticNet(alpha=0.1)</pre><b>In a Jupyter environment, please rerun this cell to show the HTML representation or trust the notebook. <br />On GitHub, the HTML representation is unable to render, please try loading this page with nbviewer.org.</b></div><div class=\"sk-container\" hidden><div class=\"sk-item\"><div class=\"sk-estimator sk-toggleable\"><input class=\"sk-toggleable__control sk-hidden--visually\" id=\"sk-estimator-id-27\" type=\"checkbox\" checked><label for=\"sk-estimator-id-27\" class=\"sk-toggleable__label sk-toggleable__label-arrow\">ElasticNet</label><div class=\"sk-toggleable__content\"><pre>ElasticNet(alpha=0.1)</pre></div></div></div></div></div>"
      ],
      "text/plain": [
       "ElasticNet(alpha=0.1)"
      ]
     },
     "execution_count": 95,
     "metadata": {},
     "output_type": "execute_result"
    }
   ],
   "source": [
    "from sklearn.linear_model import ElasticNet\n",
    "elastic_net = ElasticNet(alpha = 0.1, l1_ratio = 0.5)\n",
    "elastic_net.fit(X_train_transformed, y_train)"
   ]
  },
  {
   "cell_type": "code",
   "execution_count": 96,
   "id": "d10c2fea",
   "metadata": {},
   "outputs": [],
   "source": [
    "\n",
    "scores = cross_val_score(elastic_net, X_train_transformed, y_train,\n",
    "                        scoring=\"neg_mean_squared_error\", cv=10)"
   ]
  },
  {
   "cell_type": "code",
   "execution_count": 97,
   "id": "aae46fce",
   "metadata": {},
   "outputs": [],
   "source": [
    "cv_scores = np.sqrt(-scores)"
   ]
  },
  {
   "cell_type": "code",
   "execution_count": 98,
   "id": "b6664167",
   "metadata": {},
   "outputs": [
    {
     "name": "stdout",
     "output_type": "stream",
     "text": [
      "Scores: [263.07724914 347.10760891 269.66027458 242.31937802 178.63750201\n",
      " 204.45281069 355.33939034 336.04291114 304.02896138 217.90707532]\n",
      "Mean 271.8573161526514\n",
      "Std. Dev 59.063528999763825\n"
     ]
    }
   ],
   "source": [
    "display_scores(cv_scores)"
   ]
  },
  {
   "cell_type": "code",
   "execution_count": 99,
   "id": "0f6b1fb6",
   "metadata": {},
   "outputs": [],
   "source": [
    "y_test_predicted = elastic_net.predict(X_test_transformed)"
   ]
  },
  {
   "cell_type": "code",
   "execution_count": 100,
   "id": "7a0ba2d1",
   "metadata": {},
   "outputs": [
    {
     "data": {
      "text/plain": [
       "454.7549092959077"
      ]
     },
     "execution_count": 100,
     "metadata": {},
     "output_type": "execute_result"
    }
   ],
   "source": [
    "elastic_mse = mean_squared_error(y_test_predicted, y_test)\n",
    "elastic_rmse = np.sqrt(elastic_mse)\n",
    "elastic_rmse"
   ]
  },
  {
   "cell_type": "code",
   "execution_count": 102,
   "id": "ad53e286",
   "metadata": {},
   "outputs": [
    {
     "data": {
      "text/plain": [
       "342.98235909822864"
      ]
     },
     "execution_count": 102,
     "metadata": {},
     "output_type": "execute_result"
    }
   ],
   "source": [
    "lin_reg.intercept_"
   ]
  },
  {
   "cell_type": "code",
   "execution_count": 104,
   "id": "9a8f0e1b",
   "metadata": {},
   "outputs": [
    {
     "data": {
      "text/plain": [
       "array([-15.7803392 , -62.86500804])"
      ]
     },
     "execution_count": 104,
     "metadata": {},
     "output_type": "execute_result"
    }
   ],
   "source": [
    "lin_reg.coef_"
   ]
  },
  {
   "cell_type": "code",
   "execution_count": null,
   "id": "c8c7e1b6",
   "metadata": {},
   "outputs": [],
   "source": []
  }
 ],
 "metadata": {
  "kernelspec": {
   "display_name": "Python 3 (ipykernel)",
   "language": "python",
   "name": "python3"
  },
  "language_info": {
   "codemirror_mode": {
    "name": "ipython",
    "version": 3
   },
   "file_extension": ".py",
   "mimetype": "text/x-python",
   "name": "python",
   "nbconvert_exporter": "python",
   "pygments_lexer": "ipython3",
   "version": "3.10.8"
  }
 },
 "nbformat": 4,
 "nbformat_minor": 5
}
